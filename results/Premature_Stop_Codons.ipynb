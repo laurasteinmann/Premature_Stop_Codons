{
 "cells": [
  {
   "cell_type": "markdown",
   "metadata": {},
   "source": [
    "# Project Premature Stop Codons in *Arabidopsis thaliana*\n",
    "\n"
   ]
  },
  {
   "cell_type": "markdown",
   "metadata": {},
   "source": [
    "To manage live in an ecosystem organisms need to adapt to the specific abiotic and biotic factors around them. Especially for plants adaptation is important because they can not change their habitat during their lifespan. Adaptation can happen through multiple changes on cell, tissue and organism level, but the fundamental process that drive adaptation on the smallest scale are mutations. There are three categories of mutations, which have different effects on the process of transkription of DNA to RNA and the translation from the RNA to the protein. The first category of mutations are synonymous mutations. Synonymous mutations are point mutations in the DNA, which lead to a change in the  sequence of basepairs. **TODO ongoing introduction**"
   ]
  },
  {
   "cell_type": "markdown",
   "metadata": {},
   "source": [
    "## Setup Project structure"
   ]
  },
  {
   "cell_type": "markdown",
   "metadata": {},
   "source": [
    "## Ara11-Annotation"
   ]
  },
  {
   "cell_type": "markdown",
   "metadata": {},
   "source": [
    "### Analysing positions of gene locations "
   ]
  },
  {
   "cell_type": "markdown",
   "metadata": {},
   "source": [
    "For determining length or position of genes or RNAs we need information about the start of the 5'UTR, the start of the coding sequence, the stop of the coding sequence, the stop of the 3' UTR and the orientation of the gene on the DNA strand for each single gene in *A. thaliana*. For getting a detailed look at the different genes we actually look at the start  and stop of the protein as well as the UTR regions. This leads to multiple entries for different splice variants for one gene. Different splicing variants result in different protein start and stop and can also result in different 5'UTR and 3'UTR regions depending on the annotation in the Araport 11 file. We store all genes, which don't have a protein as a result for example miRNAs in a different table. For them only the information of where the gene starts and ends is available. We also generate a table for transposons, which contains the start and stop known for these transposons."
   ]
  },
  {
   "cell_type": "code",
   "execution_count": 1,
   "metadata": {},
   "outputs": [],
   "source": [
    "%run ../scripts/Ara11_Annotation.py"
   ]
  },
  {
   "cell_type": "code",
   "execution_count": 2,
   "metadata": {},
   "outputs": [
    {
     "data": {
      "text/html": [
       "<div>\n",
       "<style scoped>\n",
       "    .dataframe tbody tr th:only-of-type {\n",
       "        vertical-align: middle;\n",
       "    }\n",
       "\n",
       "    .dataframe tbody tr th {\n",
       "        vertical-align: top;\n",
       "    }\n",
       "\n",
       "    .dataframe thead th {\n",
       "        text-align: right;\n",
       "    }\n",
       "</style>\n",
       "<table border=\"1\" class=\"dataframe\">\n",
       "  <thead>\n",
       "    <tr style=\"text-align: right;\">\n",
       "      <th></th>\n",
       "      <th>Name</th>\n",
       "      <th>Orientation</th>\n",
       "      <th>Start_5UTR</th>\n",
       "      <th>Stop_5UTR</th>\n",
       "      <th>Start_Protein</th>\n",
       "      <th>Stop_Protein</th>\n",
       "      <th>Start_3UTR</th>\n",
       "      <th>Stop_3UTR</th>\n",
       "    </tr>\n",
       "  </thead>\n",
       "  <tbody>\n",
       "    <tr>\n",
       "      <th>0</th>\n",
       "      <td>AT1G01010.1</td>\n",
       "      <td>+</td>\n",
       "      <td>3631</td>\n",
       "      <td>3759</td>\n",
       "      <td>3760</td>\n",
       "      <td>5630</td>\n",
       "      <td>5631</td>\n",
       "      <td>5899</td>\n",
       "    </tr>\n",
       "    <tr>\n",
       "      <th>1</th>\n",
       "      <td>AT1G01020.1</td>\n",
       "      <td>-</td>\n",
       "      <td>8667</td>\n",
       "      <td>9130</td>\n",
       "      <td>6915</td>\n",
       "      <td>8666</td>\n",
       "      <td>6788</td>\n",
       "      <td>6914</td>\n",
       "    </tr>\n",
       "    <tr>\n",
       "      <th>2</th>\n",
       "      <td>AT1G01020.2</td>\n",
       "      <td>-</td>\n",
       "      <td>8667</td>\n",
       "      <td>8737</td>\n",
       "      <td>7315</td>\n",
       "      <td>8666</td>\n",
       "      <td>6788</td>\n",
       "      <td>7069</td>\n",
       "    </tr>\n",
       "    <tr>\n",
       "      <th>3</th>\n",
       "      <td>AT1G01020.3</td>\n",
       "      <td>-</td>\n",
       "      <td>8443</td>\n",
       "      <td>8464</td>\n",
       "      <td>6915</td>\n",
       "      <td>8442</td>\n",
       "      <td>6788</td>\n",
       "      <td>6914</td>\n",
       "    </tr>\n",
       "    <tr>\n",
       "      <th>4</th>\n",
       "      <td>AT1G01020.4</td>\n",
       "      <td>-</td>\n",
       "      <td>8594</td>\n",
       "      <td>9130</td>\n",
       "      <td>6915</td>\n",
       "      <td>8442</td>\n",
       "      <td>6788</td>\n",
       "      <td>6914</td>\n",
       "    </tr>\n",
       "    <tr>\n",
       "      <th>...</th>\n",
       "      <td>...</td>\n",
       "      <td>...</td>\n",
       "      <td>...</td>\n",
       "      <td>...</td>\n",
       "      <td>...</td>\n",
       "      <td>...</td>\n",
       "      <td>...</td>\n",
       "      <td>...</td>\n",
       "    </tr>\n",
       "    <tr>\n",
       "      <th>48354</th>\n",
       "      <td>ATMG01350.1</td>\n",
       "      <td>+</td>\n",
       "      <td>NaN</td>\n",
       "      <td>NaN</td>\n",
       "      <td>346757</td>\n",
       "      <td>347194</td>\n",
       "      <td>NaN</td>\n",
       "      <td>NaN</td>\n",
       "    </tr>\n",
       "    <tr>\n",
       "      <th>48355</th>\n",
       "      <td>ATMG01360.1</td>\n",
       "      <td>-</td>\n",
       "      <td>NaN</td>\n",
       "      <td>NaN</td>\n",
       "      <td>349830</td>\n",
       "      <td>351413</td>\n",
       "      <td>NaN</td>\n",
       "      <td>NaN</td>\n",
       "    </tr>\n",
       "    <tr>\n",
       "      <th>48356</th>\n",
       "      <td>ATMG01370.1</td>\n",
       "      <td>-</td>\n",
       "      <td>NaN</td>\n",
       "      <td>NaN</td>\n",
       "      <td>360717</td>\n",
       "      <td>361052</td>\n",
       "      <td>NaN</td>\n",
       "      <td>NaN</td>\n",
       "    </tr>\n",
       "    <tr>\n",
       "      <th>48357</th>\n",
       "      <td>ATMG01400.1</td>\n",
       "      <td>+</td>\n",
       "      <td>NaN</td>\n",
       "      <td>NaN</td>\n",
       "      <td>363725</td>\n",
       "      <td>364042</td>\n",
       "      <td>NaN</td>\n",
       "      <td>NaN</td>\n",
       "    </tr>\n",
       "    <tr>\n",
       "      <th>48358</th>\n",
       "      <td>ATMG01410.1</td>\n",
       "      <td>-</td>\n",
       "      <td>NaN</td>\n",
       "      <td>NaN</td>\n",
       "      <td>366086</td>\n",
       "      <td>366700</td>\n",
       "      <td>NaN</td>\n",
       "      <td>NaN</td>\n",
       "    </tr>\n",
       "  </tbody>\n",
       "</table>\n",
       "<p>48359 rows × 8 columns</p>\n",
       "</div>"
      ],
      "text/plain": [
       "              Name Orientation Start_5UTR Stop_5UTR Start_Protein  \\\n",
       "0      AT1G01010.1           +       3631      3759          3760   \n",
       "1      AT1G01020.1           -       8667      9130          6915   \n",
       "2      AT1G01020.2           -       8667      8737          7315   \n",
       "3      AT1G01020.3           -       8443      8464          6915   \n",
       "4      AT1G01020.4           -       8594      9130          6915   \n",
       "...            ...         ...        ...       ...           ...   \n",
       "48354  ATMG01350.1           +        NaN       NaN        346757   \n",
       "48355  ATMG01360.1           -        NaN       NaN        349830   \n",
       "48356  ATMG01370.1           -        NaN       NaN        360717   \n",
       "48357  ATMG01400.1           +        NaN       NaN        363725   \n",
       "48358  ATMG01410.1           -        NaN       NaN        366086   \n",
       "\n",
       "      Stop_Protein Start_3UTR Stop_3UTR  \n",
       "0             5630       5631      5899  \n",
       "1             8666       6788      6914  \n",
       "2             8666       6788      7069  \n",
       "3             8442       6788      6914  \n",
       "4             8442       6788      6914  \n",
       "...            ...        ...       ...  \n",
       "48354       347194        NaN       NaN  \n",
       "48355       351413        NaN       NaN  \n",
       "48356       361052        NaN       NaN  \n",
       "48357       364042        NaN       NaN  \n",
       "48358       366700        NaN       NaN  \n",
       "\n",
       "[48359 rows x 8 columns]"
      ]
     },
     "execution_count": 2,
     "metadata": {},
     "output_type": "execute_result"
    }
   ],
   "source": [
    "ara11_genes"
   ]
  },
  {
   "cell_type": "markdown",
   "metadata": {},
   "source": [
    "## Approach 1: Geneexpression Differences"
   ]
  },
  {
   "cell_type": "markdown",
   "metadata": {},
   "source": [
    "For the further analysis we need to have a functional dataset where we are sure that the premature stop codons have actual impact on the plant. For that we thought, that we compare gene expression patterns between the wildtype accessions and the ko-mutant accessions (containg the premature stop codons) and take all premature stop codons, which have a significant difference in these two groups. For that we use RNA-Seq data, which is also available from the 1001 Genomes Project and contains transcriptoms of 727 *A. thaliana* accessions. "
   ]
  },
  {
   "cell_type": "markdown",
   "metadata": {},
   "source": [
    "### Preprocessing"
   ]
  },
  {
   "cell_type": "markdown",
   "metadata": {},
   "source": [
    "To make the raw data possible to analyze with the Python programming language, the vcf-format is processed to a standard csv-file format. This is done in the R script Preprocessing.r"
   ]
  },
  {
   "cell_type": "markdown",
   "metadata": {},
   "source": [
    "For a comfortable further analysis we need to simplify the gt-section in a more numerical format as well as filtering the gt-section and the expression dataset for their overlap. The RNA-Seq dataset has 727 different accessions of *A.thaliana*, which have 665 common accessions, where we have RNA-seq and genomic information."
   ]
  },
  {
   "cell_type": "code",
   "execution_count": 3,
   "metadata": {},
   "outputs": [],
   "source": [
    "%run ../scripts/Preprocessing_Genexpression.py"
   ]
  },
  {
   "cell_type": "markdown",
   "metadata": {},
   "source": [
    "### Confidential Dataset "
   ]
  },
  {
   "cell_type": "markdown",
   "metadata": {},
   "source": [
    "We try to categorize the premature stop codons in 3 different classe: unsignificant gene expression change, significant decrease in gene expression and significant increase in gene expression.If a Premature Stop Codon is introduced in an ecotype of *A.thaliana* the gene expression should be significantly reduced. We calculate therefore the number of accessions with and without mutation (WT and ko-Mutant) and their mean."
   ]
  },
  {
   "cell_type": "markdown",
   "metadata": {},
   "source": [
    "Important facts (problems) about the analysis: The first problem we face for our analysis is the different annotations used for *A.thaliana*. Araport11 is the most recent annotation of *A. thaliana*, which detects lots of new genes in previously believed non-coding regions. But unfortunately the RNA-Seq data of *A. thaliana* was mapped to the older version which is called TAIR10. Our approach will be based on the analysis of the genomic premature stop codons mapped (annotated) to the Araport11 annotation and selecting just these premature stop codons which are included in our RNA-Seq dataset (annotated with TAIR10). We calculate the number of wildtype and ko-mutant accessions for each premature stop codon and also store the names of these accessions. Then we calculate their mean of expression and the standard deviation. Between the steps we filter out all premature stop codons, which either have no wildtype accession or no ko-mutant accession. We select all significant premature stop codons, which have either passed a 0.05 threshold or a bonferroni corrected threshold. And select to different types. Premature stop codons, which lead to a significant decrease in gene expression and on the other hand a significant increase of gene expression. Until now we analysed the gene expression for every single premature stop codon. Since we can only compare the gene expression on gene level we combine all significant premature stop codons from one gene as a last step. "
   ]
  },
  {
   "cell_type": "code",
   "execution_count": 27,
   "metadata": {},
   "outputs": [
    {
     "name": "stdout",
     "output_type": "stream",
     "text": [
      "Full List of Premature Stop Codons Ara11 contain:  29029\n",
      "Filtered List of Premature Stop Codons after removing unknown genes of Ara11:  17046\n",
      "The final list of Premature Stop Codons before calculating the pvalues includes:  7124\n",
      "Significant premature stop codons with increase of gene expression  742\n",
      "Significant premature stop codons with decrease of gene expression  949\n",
      "Bonferroni corrected significant premature stop codons with increase of gene expression  269\n",
      "Bonferroni corrected significant premature stop codons with decreased of gene expression  247\n",
      "After merging the single stop premature stop codons on a gene based level:  216\n"
     ]
    }
   ],
   "source": [
    "%run ../scripts/Geneexpression_Differences.py"
   ]
  },
  {
   "cell_type": "markdown",
   "metadata": {},
   "source": [
    "First we look at some common features of the premature stop codons in the 1001 Genomes project."
   ]
  },
  {
   "cell_type": "code",
   "execution_count": 2,
   "metadata": {},
   "outputs": [
    {
     "data": {
      "image/png": "[encoded data removed]",
      "text/plain": [
       "<Figure size 576x432 with 2 Axes>"
      ]
     },
     "metadata": {
      "needs_background": "light"
     },
     "output_type": "display_data"
    }
   ],
   "source": [
    "import pandas as pd \n",
    "import numpy as np\n",
    "import matplotlib.pyplot as plt \n",
    "\n",
    "gt_section = pd.read_csv('../data/preprocessed/GT_Section_Numeric_Overlap.csv', index_col=0)\n",
    "stop_table_plot = pd.read_csv('../data/preprocessed/Stop_Table_Full.csv', index_col=0)\n",
    "genes = np.unique(stop_table_plot.Gene)\n",
    "\n",
    "numbers_gene_count = []\n",
    "for gene in genes:\n",
    "    subset = stop_table_plot[stop_table_plot['Gene'] == gene]\n",
    "    numbers_gene_count.append(subset.shape[0])\n",
    "\n",
    "numbers_premature_stops = gt_section.sum(axis=1)\n",
    "accessions = np.arange(0, len(gt_section.index.values))\n",
    "fig = plt.figure(figsize=(8, 6))\n",
    "gs = fig.add_gridspec(2, 1)\n",
    "ax1 = fig.add_subplot(gs[0, 0])\n",
    "ax1.scatter(accessions, numbers_premature_stops, alpha=0.7)\n",
    "ax1.set_xlabel('Accessions of A. thaliana')\n",
    "ax1.set_ylabel('Number of Premature Stop Codons')\n",
    "# ax1.set_title('Distribution of Premature Stop Codons in 1135 Accessions of A. thaliana')\n",
    "ax2 = fig.add_subplot(gs[1, 0])\n",
    "ax2.hist(numbers_gene_count, bins=60);\n",
    "ax2.set_xlim(0, 60);\n",
    "ax2.set_xlabel('Number of Premature Stop Codons in a gene')\n",
    "ax2.set_ylabel('Number of Genes')\n",
    "fig.tight_layout()\n",
    "output_file = \"figures/Distribution_Premature_Stop_Codons.png\"\n",
    "plt.savefig(output_file, dpi=900, facecolor='w')\n",
    "plt.show()\n"
   ]
  },
  {
   "cell_type": "markdown",
   "metadata": {},
   "source": [
    "Now we can have a illustration of the three categories of gene expression differences:"
   ]
  },
  {
   "cell_type": "code",
   "execution_count": 3,
   "metadata": {},
   "outputs": [
    {
     "data": {
      "image/png": "[encoded data removed]",
      "text/plain": [
       "<Figure size 576x216 with 3 Axes>"
      ]
     },
     "metadata": {
      "needs_background": "light"
     },
     "output_type": "display_data"
    }
   ],
   "source": [
    "import pandas as pd \n",
    "import seaborn as sns\n",
    "import matplotlib.pyplot as plt\n",
    "\n",
    "small_att = stop_list_bonferroni_low_expression.iloc[0, :]\n",
    "wildtype = expression_overlap.loc[small_att.WT_acc, small_att.Gene]\n",
    "ko_mutant = expression_overlap.loc[small_att.KO_acc, small_att.Gene]\n",
    "plot_df = pd.DataFrame(columns=['Type', 'Expression'])\n",
    "for plant in range(wildtype.shape[0]):\n",
    "    new_row = {'Type': ['Wildtype'], 'Expression': [wildtype.iloc[plant]]}\n",
    "    new = pd.DataFrame.from_dict(new_row)\n",
    "    plot_df = pd.concat([plot_df, new], ignore_index=True)\n",
    "\n",
    "for plant in range(ko_mutant.shape[0]):\n",
    "    new_row = {'Type': ['K0_Mutant'], 'Expression': [ko_mutant.iloc[plant]]}\n",
    "    new = pd.DataFrame.from_dict(new_row)\n",
    "    plot_df = pd.concat([plot_df, new], ignore_index=True)\n",
    "\n",
    "plot_df['Expression'] = plot_df.Expression.astype('float')\n",
    "\n",
    "big_p_subset = stop_table[stop_table['pvalue'] == stop_table['pvalue'].max()]\n",
    "big_att = big_p_subset.iloc[0, :]\n",
    "wildtype = expression_overlap.loc[big_att.WT_acc, big_att.Gene]\n",
    "ko_mutant = expression_overlap.loc[big_att.KO_acc, big_att.Gene]\n",
    "plot_df2 = pd.DataFrame(columns=['Type', 'Expression'])\n",
    "for plant in range(wildtype.shape[0]):\n",
    "    new_row = {'Type': ['Wildtype'], 'Expression': [wildtype.iloc[plant]]}\n",
    "    new = pd.DataFrame.from_dict(new_row)\n",
    "    plot_df2 = pd.concat([plot_df2, new], ignore_index=True)\n",
    "\n",
    "for plant in range(ko_mutant.shape[0]):\n",
    "    new_row = {'Type': ['K0_Mutant'], 'Expression': [ko_mutant.iloc[plant]]}\n",
    "    new = pd.DataFrame.from_dict(new_row)\n",
    "    plot_df2 = pd.concat([plot_df2, new], ignore_index=True)\n",
    "\n",
    "plot_df2['Expression'] = plot_df2.Expression.astype('float')\n",
    "\n",
    "over_att = stop_list_bonferroni_high_expression.iloc[0, :]\n",
    "wildtype = expression_overlap.loc[over_att.WT_acc, over_att.Gene]\n",
    "ko_mutant = expression_overlap.loc[over_att.KO_acc, over_att.Gene]\n",
    "plot_df3 = pd.DataFrame(columns=['Type', 'Expression'])\n",
    "\n",
    "for plant in range(wildtype.shape[0]):\n",
    "    new_row = {'Type': ['Wildtype'], 'Expression': [wildtype.iloc[plant]]}\n",
    "    new = pd.DataFrame.from_dict(new_row)\n",
    "    plot_df3 = pd.concat([plot_df3, new], ignore_index=True)\n",
    "\n",
    "for plant in range(ko_mutant.shape[0]):\n",
    "    new_row = {'Type': ['K0_Mutant'], 'Expression': [ko_mutant.iloc[plant]]}\n",
    "    new = pd.DataFrame.from_dict(new_row)\n",
    "    plot_df3 = pd.concat([plot_df3, new], ignore_index=True)\n",
    "\n",
    "plot_df3['Expression'] = plot_df3.Expression.astype('float')\n",
    "label1 = \"Expression \" + str(small_att.Gene)\n",
    "label2 = \"Expression \" + str(big_att.Gene)\n",
    "label3 = \"Expression \" + str(over_att.Gene)\n",
    "fig = plt.figure(figsize=(8, 3))\n",
    "gs = fig.add_gridspec(1, 3)\n",
    "\n",
    "ax = fig.add_subplot(gs[0, 0])\n",
    "sns.violinplot(x='Type', y='Expression', data=plot_df2)\n",
    "ax.set_xlabel(\"Type I: Unchanged Expression\")\n",
    "ax.set_ylabel(label2)\n",
    "ax = fig.add_subplot(gs[0, 1])\n",
    "sns.violinplot(x='Type', y= 'Expression', data=plot_df)\n",
    "ax.set_xlabel(\"Type II: Decrease of Expression\")\n",
    "ax.set_ylabel(label1)\n",
    "ax = fig.add_subplot(gs[0, 2])\n",
    "sns.violinplot(x='Type', y='Expression', data=plot_df3)\n",
    "ax.set_xlabel(\"Type III: Increase of Expression\")\n",
    "ax.set_ylabel(label3)\n",
    "fig.tight_layout()\n",
    "output_file = \"figures/Cathegories_Premature_Stop_Codons.png\"\n",
    "plt.savefig(output_file, dpi=700, facecolor='w')\n",
    "plt.show()"
   ]
  },
  {
   "cell_type": "code",
   "execution_count": 4,
   "metadata": {},
   "outputs": [
    {
     "data": {
      "text/html": [
       "<div>\n",
       "<style scoped>\n",
       "    .dataframe tbody tr th:only-of-type {\n",
       "        vertical-align: middle;\n",
       "    }\n",
       "\n",
       "    .dataframe tbody tr th {\n",
       "        vertical-align: top;\n",
       "    }\n",
       "\n",
       "    .dataframe thead th {\n",
       "        text-align: right;\n",
       "    }\n",
       "</style>\n",
       "<table border=\"1\" class=\"dataframe\">\n",
       "  <thead>\n",
       "    <tr style=\"text-align: right;\">\n",
       "      <th></th>\n",
       "      <th>Gene</th>\n",
       "      <th>Prem_Stop_Codons_Num</th>\n",
       "      <th>WT_num</th>\n",
       "      <th>WT_acc</th>\n",
       "      <th>KO_num</th>\n",
       "      <th>KO_acc</th>\n",
       "      <th>na_Num</th>\n",
       "      <th>na_Acc</th>\n",
       "    </tr>\n",
       "  </thead>\n",
       "  <tbody>\n",
       "    <tr>\n",
       "      <th>0</th>\n",
       "      <td>AT1G01070</td>\n",
       "      <td>1</td>\n",
       "      <td>629</td>\n",
       "      <td>[108.0, 139.0, 159.0, 265.0, 350.0, 351.0, 403...</td>\n",
       "      <td>8</td>\n",
       "      <td>[6024.0, 6133.0, 6138.0, 6140.0, 6145.0, 6148....</td>\n",
       "      <td>28</td>\n",
       "      <td>[424.0, 428.0, 5720.0, 6137.0, 6241.0, 6900.0,...</td>\n",
       "    </tr>\n",
       "    <tr>\n",
       "      <th>1</th>\n",
       "      <td>AT1G01695</td>\n",
       "      <td>1</td>\n",
       "      <td>604</td>\n",
       "      <td>[108.0, 139.0, 159.0, 265.0, 350.0, 351.0, 403...</td>\n",
       "      <td>43</td>\n",
       "      <td>[763.0, 1890.0, 8424.0, 9128.0, 9130.0, 9131.0...</td>\n",
       "      <td>18</td>\n",
       "      <td>[5741.0, 6390.0, 6830.0, 7161.0, 7296.0, 7461....</td>\n",
       "    </tr>\n",
       "    <tr>\n",
       "      <th>2</th>\n",
       "      <td>AT1G04380</td>\n",
       "      <td>1</td>\n",
       "      <td>494</td>\n",
       "      <td>[108.0, 139.0, 159.0, 265.0, 350.0, 351.0, 403...</td>\n",
       "      <td>73</td>\n",
       "      <td>[763.0, 768.0, 1890.0, 4807.0, 5860.0, 6177.0,...</td>\n",
       "      <td>98</td>\n",
       "      <td>[5644.0, 5874.0, 6744.0, 6830.0, 6943.0, 6966....</td>\n",
       "    </tr>\n",
       "    <tr>\n",
       "      <th>3</th>\n",
       "      <td>AT1G04790</td>\n",
       "      <td>1</td>\n",
       "      <td>648</td>\n",
       "      <td>[108.0, 139.0, 159.0, 265.0, 350.0, 351.0, 403...</td>\n",
       "      <td>8</td>\n",
       "      <td>[9626.0, 9627.0, 9629.0, 9745.0, 9952.0, 10008...</td>\n",
       "      <td>9</td>\n",
       "      <td>[5779.0, 7418.0, 8239.0, 8419.0, 9091.0, 9648....</td>\n",
       "    </tr>\n",
       "    <tr>\n",
       "      <th>4</th>\n",
       "      <td>AT1G11180</td>\n",
       "      <td>2</td>\n",
       "      <td>552</td>\n",
       "      <td>[108.0, 139.0, 159.0, 265.0, 350.0, 403.0, 410...</td>\n",
       "      <td>107</td>\n",
       "      <td>[351.0, 506.0, 687.0, 728.0, 1684.0, 1741.0, 1...</td>\n",
       "      <td>6</td>\n",
       "      <td>[932.0, 2317.0, 6255.0, 6268.0, 9959.0, 9970.0]</td>\n",
       "    </tr>\n",
       "    <tr>\n",
       "      <th>...</th>\n",
       "      <td>...</td>\n",
       "      <td>...</td>\n",
       "      <td>...</td>\n",
       "      <td>...</td>\n",
       "      <td>...</td>\n",
       "      <td>...</td>\n",
       "      <td>...</td>\n",
       "      <td>...</td>\n",
       "    </tr>\n",
       "    <tr>\n",
       "      <th>211</th>\n",
       "      <td>AT5G61580</td>\n",
       "      <td>1</td>\n",
       "      <td>635</td>\n",
       "      <td>[108.0, 139.0, 265.0, 350.0, 351.0, 403.0, 410...</td>\n",
       "      <td>2</td>\n",
       "      <td>[9506.0, 9515.0]</td>\n",
       "      <td>28</td>\n",
       "      <td>[159.0, 4779.0, 5023.0, 5644.0, 5741.0, 5779.0...</td>\n",
       "    </tr>\n",
       "    <tr>\n",
       "      <th>212</th>\n",
       "      <td>AT5G63087</td>\n",
       "      <td>1</td>\n",
       "      <td>424</td>\n",
       "      <td>[108.0, 139.0, 159.0, 265.0, 350.0, 403.0, 410...</td>\n",
       "      <td>167</td>\n",
       "      <td>[506.0, 687.0, 728.0, 801.0, 915.0, 932.0, 168...</td>\n",
       "      <td>74</td>\n",
       "      <td>[351.0, 630.0, 1925.0, 5486.0, 5644.0, 5800.0,...</td>\n",
       "    </tr>\n",
       "    <tr>\n",
       "      <th>213</th>\n",
       "      <td>AT5G63630</td>\n",
       "      <td>1</td>\n",
       "      <td>302</td>\n",
       "      <td>[108.0, 139.0, 159.0, 265.0, 350.0, 506.0, 687...</td>\n",
       "      <td>312</td>\n",
       "      <td>[351.0, 630.0, 763.0, 768.0, 997.0, 1066.0, 18...</td>\n",
       "      <td>51</td>\n",
       "      <td>[403.0, 410.0, 424.0, 428.0, 2317.0, 5151.0, 5...</td>\n",
       "    </tr>\n",
       "    <tr>\n",
       "      <th>214</th>\n",
       "      <td>AT5G64440</td>\n",
       "      <td>1</td>\n",
       "      <td>105</td>\n",
       "      <td>[410.0, 630.0, 2276.0, 2278.0, 4807.0, 4958.0,...</td>\n",
       "      <td>540</td>\n",
       "      <td>[108.0, 139.0, 159.0, 265.0, 350.0, 351.0, 403...</td>\n",
       "      <td>20</td>\n",
       "      <td>[5907.0, 8246.0, 9656.0, 9726.0, 9775.0, 9812....</td>\n",
       "    </tr>\n",
       "    <tr>\n",
       "      <th>215</th>\n",
       "      <td>AT5G66630</td>\n",
       "      <td>2</td>\n",
       "      <td>283</td>\n",
       "      <td>[108.0, 139.0, 265.0, 351.0, 403.0, 763.0, 768...</td>\n",
       "      <td>324</td>\n",
       "      <td>[159.0, 350.0, 410.0, 424.0, 428.0, 506.0, 630...</td>\n",
       "      <td>58</td>\n",
       "      <td>[997.0, 5023.0, 5772.0, 6020.0, 6041.0, 6099.0...</td>\n",
       "    </tr>\n",
       "  </tbody>\n",
       "</table>\n",
       "<p>216 rows × 8 columns</p>\n",
       "</div>"
      ],
      "text/plain": [
       "          Gene  Prem_Stop_Codons_Num  WT_num  \\\n",
       "0    AT1G01070                     1     629   \n",
       "1    AT1G01695                     1     604   \n",
       "2    AT1G04380                     1     494   \n",
       "3    AT1G04790                     1     648   \n",
       "4    AT1G11180                     2     552   \n",
       "..         ...                   ...     ...   \n",
       "211  AT5G61580                     1     635   \n",
       "212  AT5G63087                     1     424   \n",
       "213  AT5G63630                     1     302   \n",
       "214  AT5G64440                     1     105   \n",
       "215  AT5G66630                     2     283   \n",
       "\n",
       "                                                WT_acc  KO_num  \\\n",
       "0    [108.0, 139.0, 159.0, 265.0, 350.0, 351.0, 403...       8   \n",
       "1    [108.0, 139.0, 159.0, 265.0, 350.0, 351.0, 403...      43   \n",
       "2    [108.0, 139.0, 159.0, 265.0, 350.0, 351.0, 403...      73   \n",
       "3    [108.0, 139.0, 159.0, 265.0, 350.0, 351.0, 403...       8   \n",
       "4    [108.0, 139.0, 159.0, 265.0, 350.0, 403.0, 410...     107   \n",
       "..                                                 ...     ...   \n",
       "211  [108.0, 139.0, 265.0, 350.0, 351.0, 403.0, 410...       2   \n",
       "212  [108.0, 139.0, 159.0, 265.0, 350.0, 403.0, 410...     167   \n",
       "213  [108.0, 139.0, 159.0, 265.0, 350.0, 506.0, 687...     312   \n",
       "214  [410.0, 630.0, 2276.0, 2278.0, 4807.0, 4958.0,...     540   \n",
       "215  [108.0, 139.0, 265.0, 351.0, 403.0, 763.0, 768...     324   \n",
       "\n",
       "                                                KO_acc  na_Num  \\\n",
       "0    [6024.0, 6133.0, 6138.0, 6140.0, 6145.0, 6148....      28   \n",
       "1    [763.0, 1890.0, 8424.0, 9128.0, 9130.0, 9131.0...      18   \n",
       "2    [763.0, 768.0, 1890.0, 4807.0, 5860.0, 6177.0,...      98   \n",
       "3    [9626.0, 9627.0, 9629.0, 9745.0, 9952.0, 10008...       9   \n",
       "4    [351.0, 506.0, 687.0, 728.0, 1684.0, 1741.0, 1...       6   \n",
       "..                                                 ...     ...   \n",
       "211                                   [9506.0, 9515.0]      28   \n",
       "212  [506.0, 687.0, 728.0, 801.0, 915.0, 932.0, 168...      74   \n",
       "213  [351.0, 630.0, 763.0, 768.0, 997.0, 1066.0, 18...      51   \n",
       "214  [108.0, 139.0, 159.0, 265.0, 350.0, 351.0, 403...      20   \n",
       "215  [159.0, 350.0, 410.0, 424.0, 428.0, 506.0, 630...      58   \n",
       "\n",
       "                                                na_Acc  \n",
       "0    [424.0, 428.0, 5720.0, 6137.0, 6241.0, 6900.0,...  \n",
       "1    [5741.0, 6390.0, 6830.0, 7161.0, 7296.0, 7461....  \n",
       "2    [5644.0, 5874.0, 6744.0, 6830.0, 6943.0, 6966....  \n",
       "3    [5779.0, 7418.0, 8239.0, 8419.0, 9091.0, 9648....  \n",
       "4      [932.0, 2317.0, 6255.0, 6268.0, 9959.0, 9970.0]  \n",
       "..                                                 ...  \n",
       "211  [159.0, 4779.0, 5023.0, 5644.0, 5741.0, 5779.0...  \n",
       "212  [351.0, 630.0, 1925.0, 5486.0, 5644.0, 5800.0,...  \n",
       "213  [403.0, 410.0, 424.0, 428.0, 2317.0, 5151.0, 5...  \n",
       "214  [5907.0, 8246.0, 9656.0, 9726.0, 9775.0, 9812....  \n",
       "215  [997.0, 5023.0, 5772.0, 6020.0, 6041.0, 6099.0...  \n",
       "\n",
       "[216 rows x 8 columns]"
      ]
     },
     "execution_count": 4,
     "metadata": {},
     "output_type": "execute_result"
    }
   ],
   "source": [
    "gene_premature_stop_list"
   ]
  },
  {
   "cell_type": "markdown",
   "metadata": {},
   "source": [
    "### Approach 2: Calculation of length of mRNA"
   ]
  },
  {
   "cell_type": "markdown",
   "metadata": {},
   "source": [
    "The second approach is based on the calculation of the remaining length of the mRNA. The idea behind it is based on the hypothesis, that a stop codon at the end of a gene is not so severe then right at the start. If the protein is very truncated it should be unfunctional. That means, that we calculate the relative length in the following analysis and select genes which are in a threshold of 30% percent and a second threshold which includes as in the first approach a list of 247 premature stops. "
   ]
  },
  {
   "cell_type": "code",
   "execution_count": 5,
   "metadata": {},
   "outputs": [
    {
     "name": "stdout",
     "output_type": "stream",
     "text": [
      "Second_Threshold:  0.47953964194373405\n"
     ]
    }
   ],
   "source": [
    "%run ../scripts/Length_mRNA.py"
   ]
  },
  {
   "cell_type": "code",
   "execution_count": 6,
   "metadata": {},
   "outputs": [
    {
     "data": {
      "text/html": [
       "<div>\n",
       "<style scoped>\n",
       "    .dataframe tbody tr th:only-of-type {\n",
       "        vertical-align: middle;\n",
       "    }\n",
       "\n",
       "    .dataframe tbody tr th {\n",
       "        vertical-align: top;\n",
       "    }\n",
       "\n",
       "    .dataframe thead th {\n",
       "        text-align: right;\n",
       "    }\n",
       "</style>\n",
       "<table border=\"1\" class=\"dataframe\">\n",
       "  <thead>\n",
       "    <tr style=\"text-align: right;\">\n",
       "      <th></th>\n",
       "      <th>Chrom</th>\n",
       "      <th>Pos</th>\n",
       "      <th>Gene</th>\n",
       "      <th>Start_Protein</th>\n",
       "      <th>Stop_Protein</th>\n",
       "      <th>Length</th>\n",
       "      <th>Relative_Length</th>\n",
       "    </tr>\n",
       "  </thead>\n",
       "  <tbody>\n",
       "    <tr>\n",
       "      <th>0</th>\n",
       "      <td>1</td>\n",
       "      <td>40316</td>\n",
       "      <td>AT1G01070</td>\n",
       "      <td>38898</td>\n",
       "      <td>40877</td>\n",
       "      <td>1418</td>\n",
       "      <td>71.65235</td>\n",
       "    </tr>\n",
       "    <tr>\n",
       "      <th>2</th>\n",
       "      <td>1</td>\n",
       "      <td>57397</td>\n",
       "      <td>AT1G01120</td>\n",
       "      <td>57392</td>\n",
       "      <td>58978</td>\n",
       "      <td>5</td>\n",
       "      <td>0.315259</td>\n",
       "    </tr>\n",
       "    <tr>\n",
       "      <th>3</th>\n",
       "      <td>1</td>\n",
       "      <td>61925</td>\n",
       "      <td>AT1G01130</td>\n",
       "      <td>61905</td>\n",
       "      <td>63811</td>\n",
       "      <td>20</td>\n",
       "      <td>1.049318</td>\n",
       "    </tr>\n",
       "    <tr>\n",
       "      <th>4</th>\n",
       "      <td>1</td>\n",
       "      <td>64403</td>\n",
       "      <td>AT1G01140</td>\n",
       "      <td>64398</td>\n",
       "      <td>67512</td>\n",
       "      <td>5</td>\n",
       "      <td>0.160565</td>\n",
       "    </tr>\n",
       "    <tr>\n",
       "      <th>5</th>\n",
       "      <td>1</td>\n",
       "      <td>83241</td>\n",
       "      <td>AT1G01190</td>\n",
       "      <td>83045</td>\n",
       "      <td>84864</td>\n",
       "      <td>196</td>\n",
       "      <td>10.775151</td>\n",
       "    </tr>\n",
       "    <tr>\n",
       "      <th>...</th>\n",
       "      <td>...</td>\n",
       "      <td>...</td>\n",
       "      <td>...</td>\n",
       "      <td>...</td>\n",
       "      <td>...</td>\n",
       "      <td>...</td>\n",
       "      <td>...</td>\n",
       "    </tr>\n",
       "    <tr>\n",
       "      <th>29024</th>\n",
       "      <td>5</td>\n",
       "      <td>26898888</td>\n",
       "      <td>AT5G67411</td>\n",
       "      <td>26898401</td>\n",
       "      <td>26899097</td>\n",
       "      <td>487</td>\n",
       "      <td>69.971264</td>\n",
       "    </tr>\n",
       "    <tr>\n",
       "      <th>29025</th>\n",
       "      <td>5</td>\n",
       "      <td>26932323</td>\n",
       "      <td>AT5G67480</td>\n",
       "      <td>26931055</td>\n",
       "      <td>26932496</td>\n",
       "      <td>1268</td>\n",
       "      <td>87.994448</td>\n",
       "    </tr>\n",
       "    <tr>\n",
       "      <th>29026</th>\n",
       "      <td>5</td>\n",
       "      <td>26935820</td>\n",
       "      <td>AT5G67500</td>\n",
       "      <td>26935223</td>\n",
       "      <td>26937650</td>\n",
       "      <td>597</td>\n",
       "      <td>24.598269</td>\n",
       "    </tr>\n",
       "    <tr>\n",
       "      <th>29027</th>\n",
       "      <td>5</td>\n",
       "      <td>26954660</td>\n",
       "      <td>AT5G67570</td>\n",
       "      <td>26952352</td>\n",
       "      <td>26955480</td>\n",
       "      <td>2308</td>\n",
       "      <td>73.785166</td>\n",
       "    </tr>\n",
       "    <tr>\n",
       "      <th>29028</th>\n",
       "      <td>5</td>\n",
       "      <td>26970478</td>\n",
       "      <td>AT5G67640</td>\n",
       "      <td>26969546</td>\n",
       "      <td>26970548</td>\n",
       "      <td>932</td>\n",
       "      <td>93.013972</td>\n",
       "    </tr>\n",
       "  </tbody>\n",
       "</table>\n",
       "<p>27623 rows × 7 columns</p>\n",
       "</div>"
      ],
      "text/plain": [
       "       Chrom       Pos       Gene Start_Protein Stop_Protein Length  \\\n",
       "0          1     40316  AT1G01070         38898        40877   1418   \n",
       "2          1     57397  AT1G01120         57392        58978      5   \n",
       "3          1     61925  AT1G01130         61905        63811     20   \n",
       "4          1     64403  AT1G01140         64398        67512      5   \n",
       "5          1     83241  AT1G01190         83045        84864    196   \n",
       "...      ...       ...        ...           ...          ...    ...   \n",
       "29024      5  26898888  AT5G67411      26898401     26899097    487   \n",
       "29025      5  26932323  AT5G67480      26931055     26932496   1268   \n",
       "29026      5  26935820  AT5G67500      26935223     26937650    597   \n",
       "29027      5  26954660  AT5G67570      26952352     26955480   2308   \n",
       "29028      5  26970478  AT5G67640      26969546     26970548    932   \n",
       "\n",
       "      Relative_Length  \n",
       "0            71.65235  \n",
       "2            0.315259  \n",
       "3            1.049318  \n",
       "4            0.160565  \n",
       "5           10.775151  \n",
       "...               ...  \n",
       "29024       69.971264  \n",
       "29025       87.994448  \n",
       "29026       24.598269  \n",
       "29027       73.785166  \n",
       "29028       93.013972  \n",
       "\n",
       "[27623 rows x 7 columns]"
      ]
     },
     "execution_count": 6,
     "metadata": {},
     "output_type": "execute_result"
    }
   ],
   "source": [
    "results_table"
   ]
  },
  {
   "cell_type": "code",
   "execution_count": 7,
   "metadata": {},
   "outputs": [
    {
     "data": {
      "image/png": "[encoded data removed]",
      "text/plain": [
       "<Figure size 576x432 with 1 Axes>"
      ]
     },
     "metadata": {
      "needs_background": "light"
     },
     "output_type": "display_data"
    }
   ],
   "source": [
    "import matplotlib.pyplot as plt\n",
    "\n",
    "relative_length = results_table.Relative_Length\n",
    "\n",
    "fig = plt.figure(figsize=(8, 6))\n",
    "gs = fig.add_gridspec(1, 1)\n",
    "ax1 = fig.add_subplot(gs[0, 0])\n",
    "ax1.hist(relative_length, bins=100);\n",
    "ax1.set_xlim(0,100)\n",
    "ax1.set_ylim(0,650)\n",
    "ax1.set_xlabel('Relative Length of remaining mRNA Length in %')\n",
    "ax1.set_ylabel('Number Premature Stop Codons')\n",
    "ax1.set_title('Remaining Lengths of mRNAs after the occurrence of a premature stop codon')\n",
    "plt.axvline(x=30, color='C1', label='30% Threshold')\n",
    "plt.axvline(x=0.47, color='C3', label='Equal number of Premature Stop Codons to Approach 1')\n",
    "plt.legend()\n",
    "fig.tight_layout()\n",
    "output_file = \"figures/Remaining_Length.png\"\n",
    "plt.savefig(output_file, dpi=700, facecolor='w')\n",
    "plt.show()\n"
   ]
  },
  {
   "cell_type": "markdown",
   "metadata": {},
   "source": [
    "### Compare the two Approachs"
   ]
  },
  {
   "cell_type": "markdown",
   "metadata": {},
   "source": [
    "Study how much overlap the two approaches do have and visualize it in an venn diagramm. "
   ]
  },
  {
   "cell_type": "code",
   "execution_count": 20,
   "metadata": {},
   "outputs": [],
   "source": [
    "%run ../scripts/Compare_Approaches.py"
   ]
  },
  {
   "cell_type": "code",
   "execution_count": 60,
   "metadata": {},
   "outputs": [
    {
     "data": {
      "image/png": "[encoded data removed]",
      "text/plain": [
       "<Figure size 576x432 with 1 Axes>"
      ]
     },
     "metadata": {},
     "output_type": "display_data"
    }
   ],
   "source": [
    "import matplotlib.pyplot as plt \n",
    "from matplotlib_venn import venn2, venn2_circles\n",
    "\n",
    "fig = plt.figure(figsize=(8, 6))\n",
    "ax1 = fig.add_subplot(gs[0, 0])\n",
    "ax1 = venn2(subsets = (number_geneexp, number_length, number_overlap), set_labels=('Gene expression Approach', 'Relative Length Approach'), set_colors = ('C0', 'C1'), )\n",
    "ax1 = venn2_circles(subsets =(number_geneexp, number_length, number_overlap))\n",
    "fig.tight_layout()\n",
    "output_file = \"figures/Venn_Diagrams_Comparision_Approaches_Small.png\"\n",
    "plt.savefig(output_file, dpi=700, facecolor='w')\n",
    "plt.show()\n",
    "\n",
    "\n",
    "\n"
   ]
  },
  {
   "cell_type": "code",
   "execution_count": 62,
   "metadata": {},
   "outputs": [
    {
     "data": {
      "image/png": "[encoded data removed]",
      "text/plain": [
       "<Figure size 576x864 with 1 Axes>"
      ]
     },
     "metadata": {},
     "output_type": "display_data"
    }
   ],
   "source": [
    "fig = plt.figure(figsize=(8, 12))\n",
    "ax1 = fig.add_subplot(gs[0, 0])\n",
    "ax1 = venn2(subsets = (number_geneexp, number_length_full, number_overlap_big), set_labels=('Geneexpression \\n Approach', \n",
    "'Relative Length Approach'), set_colors = ('C0', 'C1'))\n",
    "ax1 = venn2_circles(subsets =(number_geneexp, number_length_full, number_overlap_big))\n",
    "fig.tight_layout()\n",
    "output_file = \"figures/Venn_Diagrams_Comparision_Approaches_Big.png\"\n",
    "plt.savefig(output_file, dpi=700, facecolor='w')\n",
    "plt.show()"
   ]
  },
  {
   "cell_type": "markdown",
   "metadata": {},
   "source": [
    "## Coocurrence between Premature Stop Codons"
   ]
  },
  {
   "cell_type": "markdown",
   "metadata": {},
   "source": [
    "We now analyse if premature stop codons occur more often together as we except. For this we look at all different combinations between the significant genes we analysed and summarized in the gene based stop codons table and see if there are stop codons which are significantly connected. For this we use a hypergeometrical test to calculate the interval and the pvalue. For a complete analysis we can come back later on we calculate first all significant Coocurrence by taking a p-value of 0.05. Also we calculate the distance between the connected premature stop codons and repeat the analysis with a bonferroni corrected threshold."
   ]
  },
  {
   "cell_type": "code",
   "execution_count": 28,
   "metadata": {},
   "outputs": [],
   "source": [
    "%run -i ../scripts/Coocurrence.py"
   ]
  },
  {
   "cell_type": "markdown",
   "metadata": {},
   "source": [
    "Because of differences between the hypergeometric test in python and R we choosed to use the R function for it. "
   ]
  },
  {
   "cell_type": "code",
   "execution_count": null,
   "metadata": {},
   "outputs": [],
   "source": [
    "%run ../script/Hypergepmetric_Test.r"
   ]
  },
  {
   "cell_type": "markdown",
   "metadata": {},
   "source": [
    "We select the coocurrences that are over occurring."
   ]
  },
  {
   "cell_type": "code",
   "execution_count": 33,
   "metadata": {},
   "outputs": [],
   "source": [
    "%run ../scripts/Coocurrence_Analysis.py"
   ]
  },
  {
   "cell_type": "code",
   "execution_count": 58,
   "metadata": {},
   "outputs": [
    {
     "data": {
      "text/html": [
       "<div>\n",
       "<style scoped>\n",
       "    .dataframe tbody tr th:only-of-type {\n",
       "        vertical-align: middle;\n",
       "    }\n",
       "\n",
       "    .dataframe tbody tr th {\n",
       "        vertical-align: top;\n",
       "    }\n",
       "\n",
       "    .dataframe thead th {\n",
       "        text-align: right;\n",
       "    }\n",
       "</style>\n",
       "<table border=\"1\" class=\"dataframe\">\n",
       "  <thead>\n",
       "    <tr style=\"text-align: right;\">\n",
       "      <th></th>\n",
       "      <th>Gene1</th>\n",
       "      <th>Gene2</th>\n",
       "      <th>Gene1_count</th>\n",
       "      <th>Gene2_count</th>\n",
       "      <th>Cooccurrence</th>\n",
       "      <th>Lower_border</th>\n",
       "      <th>Upper_border</th>\n",
       "      <th>pvalue_lower</th>\n",
       "      <th>pvalue_upper</th>\n",
       "      <th>Distance</th>\n",
       "    </tr>\n",
       "  </thead>\n",
       "  <tbody>\n",
       "    <tr>\n",
       "      <th>219</th>\n",
       "      <td>AT1G01695</td>\n",
       "      <td>AT1G04790</td>\n",
       "      <td>43</td>\n",
       "      <td>8</td>\n",
       "      <td>8</td>\n",
       "      <td>0</td>\n",
       "      <td>6</td>\n",
       "      <td>1.0</td>\n",
       "      <td>1.594763e-10</td>\n",
       "      <td>1090974.0</td>\n",
       "    </tr>\n",
       "    <tr>\n",
       "      <th>239</th>\n",
       "      <td>AT1G01695</td>\n",
       "      <td>AT1G48060</td>\n",
       "      <td>43</td>\n",
       "      <td>284</td>\n",
       "      <td>35</td>\n",
       "      <td>5</td>\n",
       "      <td>33</td>\n",
       "      <td>1.0</td>\n",
       "      <td>8.223317e-08</td>\n",
       "      <td>17473764.0</td>\n",
       "    </tr>\n",
       "    <tr>\n",
       "      <th>266</th>\n",
       "      <td>AT1G01695</td>\n",
       "      <td>AT2G04845</td>\n",
       "      <td>43</td>\n",
       "      <td>47</td>\n",
       "      <td>18</td>\n",
       "      <td>0</td>\n",
       "      <td>13</td>\n",
       "      <td>1.0</td>\n",
       "      <td>1.078230e-11</td>\n",
       "      <td>1000000.0</td>\n",
       "    </tr>\n",
       "    <tr>\n",
       "      <th>269</th>\n",
       "      <td>AT1G01695</td>\n",
       "      <td>AT2G15930</td>\n",
       "      <td>43</td>\n",
       "      <td>311</td>\n",
       "      <td>3</td>\n",
       "      <td>6</td>\n",
       "      <td>35</td>\n",
       "      <td>1.0</td>\n",
       "      <td>5.653230e-09</td>\n",
       "      <td>1000000.0</td>\n",
       "    </tr>\n",
       "    <tr>\n",
       "      <th>272</th>\n",
       "      <td>AT1G01695</td>\n",
       "      <td>AT2G16810</td>\n",
       "      <td>43</td>\n",
       "      <td>327</td>\n",
       "      <td>5</td>\n",
       "      <td>7</td>\n",
       "      <td>36</td>\n",
       "      <td>1.0</td>\n",
       "      <td>8.401935e-08</td>\n",
       "      <td>1000000.0</td>\n",
       "    </tr>\n",
       "    <tr>\n",
       "      <th>...</th>\n",
       "      <td>...</td>\n",
       "      <td>...</td>\n",
       "      <td>...</td>\n",
       "      <td>...</td>\n",
       "      <td>...</td>\n",
       "      <td>...</td>\n",
       "      <td>...</td>\n",
       "      <td>...</td>\n",
       "      <td>...</td>\n",
       "      <td>...</td>\n",
       "    </tr>\n",
       "    <tr>\n",
       "      <th>46619</th>\n",
       "      <td>AT5G66630</td>\n",
       "      <td>AT5G27110</td>\n",
       "      <td>324</td>\n",
       "      <td>237</td>\n",
       "      <td>148</td>\n",
       "      <td>86</td>\n",
       "      <td>145</td>\n",
       "      <td>1.0</td>\n",
       "      <td>5.694768e-08</td>\n",
       "      <td>17052073.0</td>\n",
       "    </tr>\n",
       "    <tr>\n",
       "      <th>46634</th>\n",
       "      <td>AT5G66630</td>\n",
       "      <td>AT5G45150</td>\n",
       "      <td>324</td>\n",
       "      <td>86</td>\n",
       "      <td>13</td>\n",
       "      <td>22</td>\n",
       "      <td>62</td>\n",
       "      <td>1.0</td>\n",
       "      <td>3.037543e-12</td>\n",
       "      <td>8328374.0</td>\n",
       "    </tr>\n",
       "    <tr>\n",
       "      <th>46641</th>\n",
       "      <td>AT5G66630</td>\n",
       "      <td>AT5G48350</td>\n",
       "      <td>324</td>\n",
       "      <td>127</td>\n",
       "      <td>35</td>\n",
       "      <td>38</td>\n",
       "      <td>86</td>\n",
       "      <td>1.0</td>\n",
       "      <td>4.307018e-08</td>\n",
       "      <td>6998555.0</td>\n",
       "    </tr>\n",
       "    <tr>\n",
       "      <th>46644</th>\n",
       "      <td>AT5G66630</td>\n",
       "      <td>AT5G51795</td>\n",
       "      <td>324</td>\n",
       "      <td>36</td>\n",
       "      <td>0</td>\n",
       "      <td>4</td>\n",
       "      <td>31</td>\n",
       "      <td>1.0</td>\n",
       "      <td>1.395682e-11</td>\n",
       "      <td>5548526.0</td>\n",
       "    </tr>\n",
       "    <tr>\n",
       "      <th>46645</th>\n",
       "      <td>AT5G66630</td>\n",
       "      <td>AT5G54020</td>\n",
       "      <td>324</td>\n",
       "      <td>125</td>\n",
       "      <td>88</td>\n",
       "      <td>37</td>\n",
       "      <td>85</td>\n",
       "      <td>1.0</td>\n",
       "      <td>3.292284e-08</td>\n",
       "      <td>4669156.0</td>\n",
       "    </tr>\n",
       "  </tbody>\n",
       "</table>\n",
       "<p>1128 rows × 10 columns</p>\n",
       "</div>"
      ],
      "text/plain": [
       "           Gene1      Gene2  Gene1_count  Gene2_count  Cooccurrence  \\\n",
       "219    AT1G01695  AT1G04790           43            8             8   \n",
       "239    AT1G01695  AT1G48060           43          284            35   \n",
       "266    AT1G01695  AT2G04845           43           47            18   \n",
       "269    AT1G01695  AT2G15930           43          311             3   \n",
       "272    AT1G01695  AT2G16810           43          327             5   \n",
       "...          ...        ...          ...          ...           ...   \n",
       "46619  AT5G66630  AT5G27110          324          237           148   \n",
       "46634  AT5G66630  AT5G45150          324           86            13   \n",
       "46641  AT5G66630  AT5G48350          324          127            35   \n",
       "46644  AT5G66630  AT5G51795          324           36             0   \n",
       "46645  AT5G66630  AT5G54020          324          125            88   \n",
       "\n",
       "       Lower_border  Upper_border  pvalue_lower  pvalue_upper    Distance  \n",
       "219               0             6           1.0  1.594763e-10   1090974.0  \n",
       "239               5            33           1.0  8.223317e-08  17473764.0  \n",
       "266               0            13           1.0  1.078230e-11   1000000.0  \n",
       "269               6            35           1.0  5.653230e-09   1000000.0  \n",
       "272               7            36           1.0  8.401935e-08   1000000.0  \n",
       "...             ...           ...           ...           ...         ...  \n",
       "46619            86           145           1.0  5.694768e-08  17052073.0  \n",
       "46634            22            62           1.0  3.037543e-12   8328374.0  \n",
       "46641            38            86           1.0  4.307018e-08   6998555.0  \n",
       "46644             4            31           1.0  1.395682e-11   5548526.0  \n",
       "46645            37            85           1.0  3.292284e-08   4669156.0  \n",
       "\n",
       "[1128 rows x 10 columns]"
      ]
     },
     "execution_count": 58,
     "metadata": {},
     "output_type": "execute_result"
    }
   ],
   "source": [
    "coocurrence_significant"
   ]
  },
  {
   "cell_type": "markdown",
   "metadata": {},
   "source": [
    "## Analysis of attributes of these Premature Stop Codons"
   ]
  },
  {
   "cell_type": "markdown",
   "metadata": {},
   "source": [
    "To understand which Premature Stop Codons are included in our datasets and to understand the GWAS results in a more detailed way."
   ]
  },
  {
   "cell_type": "code",
   "execution_count": 2,
   "metadata": {},
   "outputs": [
    {
     "name": "stdout",
     "output_type": "stream",
     "text": [
      "Maximum Premature Stop Codons per Gene: 4\n",
      "Minimum Premature Stop Codons per Gene: 1\n"
     ]
    }
   ],
   "source": [
    "%run ../scripts/Attributes_stop_codons.py"
   ]
  },
  {
   "cell_type": "markdown",
   "metadata": {},
   "source": [
    "### GWAS-Phenotypes"
   ]
  },
  {
   "cell_type": "markdown",
   "metadata": {},
   "source": [
    "For another control we create Phenotypes for GWAS-Analysis. The GWAS Analysis is done by Layla."
   ]
  },
  {
   "cell_type": "code",
   "execution_count": 59,
   "metadata": {},
   "outputs": [],
   "source": [
    "%run -i ../scripts/Generation_Phenotypes.py "
   ]
  },
  {
   "cell_type": "code",
   "execution_count": 60,
   "metadata": {},
   "outputs": [
    {
     "data": {
      "text/html": [
       "<div>\n",
       "<style scoped>\n",
       "    .dataframe tbody tr th:only-of-type {\n",
       "        vertical-align: middle;\n",
       "    }\n",
       "\n",
       "    .dataframe tbody tr th {\n",
       "        vertical-align: top;\n",
       "    }\n",
       "\n",
       "    .dataframe thead th {\n",
       "        text-align: right;\n",
       "    }\n",
       "</style>\n",
       "<table border=\"1\" class=\"dataframe\">\n",
       "  <thead>\n",
       "    <tr style=\"text-align: right;\">\n",
       "      <th></th>\n",
       "      <th>Phenotype</th>\n",
       "    </tr>\n",
       "  </thead>\n",
       "  <tbody>\n",
       "    <tr>\n",
       "      <th>159</th>\n",
       "      <td>0</td>\n",
       "    </tr>\n",
       "    <tr>\n",
       "      <th>350</th>\n",
       "      <td>0</td>\n",
       "    </tr>\n",
       "    <tr>\n",
       "      <th>410</th>\n",
       "      <td>0</td>\n",
       "    </tr>\n",
       "    <tr>\n",
       "      <th>424</th>\n",
       "      <td>0</td>\n",
       "    </tr>\n",
       "    <tr>\n",
       "      <th>428</th>\n",
       "      <td>0</td>\n",
       "    </tr>\n",
       "    <tr>\n",
       "      <th>...</th>\n",
       "      <td>...</td>\n",
       "    </tr>\n",
       "    <tr>\n",
       "      <th>9937</th>\n",
       "      <td>1</td>\n",
       "    </tr>\n",
       "    <tr>\n",
       "      <th>9938</th>\n",
       "      <td>0</td>\n",
       "    </tr>\n",
       "    <tr>\n",
       "      <th>9970</th>\n",
       "      <td>0</td>\n",
       "    </tr>\n",
       "    <tr>\n",
       "      <th>9972</th>\n",
       "      <td>0</td>\n",
       "    </tr>\n",
       "    <tr>\n",
       "      <th>9998</th>\n",
       "      <td>0</td>\n",
       "    </tr>\n",
       "  </tbody>\n",
       "</table>\n",
       "<p>324 rows × 1 columns</p>\n",
       "</div>"
      ],
      "text/plain": [
       "     Phenotype\n",
       "159          0\n",
       "350          0\n",
       "410          0\n",
       "424          0\n",
       "428          0\n",
       "...        ...\n",
       "9937         1\n",
       "9938         0\n",
       "9970         0\n",
       "9972         0\n",
       "9998         0\n",
       "\n",
       "[324 rows x 1 columns]"
      ]
     },
     "execution_count": 60,
     "metadata": {},
     "output_type": "execute_result"
    }
   ],
   "source": [
    "phenotype"
   ]
  },
  {
   "cell_type": "code",
   "execution_count": 61,
   "metadata": {},
   "outputs": [
    {
     "data": {
      "text/plain": [
       "Phenotype    88\n",
       "dtype: object"
      ]
     },
     "execution_count": 61,
     "metadata": {},
     "output_type": "execute_result"
    }
   ],
   "source": [
    "phenotype.sum()"
   ]
  },
  {
   "cell_type": "markdown",
   "metadata": {},
   "source": [
    "## Control with Synonymous and Non-Synonymous Mutations"
   ]
  },
  {
   "cell_type": "markdown",
   "metadata": {},
   "source": [
    "### Preprocessing of SNPs in 1035 Genomes Project"
   ]
  },
  {
   "cell_type": "code",
   "execution_count": null,
   "metadata": {},
   "outputs": [],
   "source": [
    "%run ../scripts/Preprocessing_SNPS.py"
   ]
  }
 ],
 "metadata": {
  "interpreter": {
   "hash": "ac1bc1fee816c861628f5010bc668025382ee6a8fa6cf0a3da56c2b4dd6f469c"
  },
  "kernelspec": {
   "display_name": "Python 3.10.2 ('Premature_Stop_Codons')",
   "language": "python",
   "name": "python3"
  },
  "language_info": {
   "codemirror_mode": {
    "name": "ipython",
    "version": 3
   },
   "file_extension": ".py",
   "mimetype": "text/x-python",
   "name": "python",
   "nbconvert_exporter": "python",
   "pygments_lexer": "ipython3",
   "version": "3.10.2"
  },
  "orig_nbformat": 4
 },
 "nbformat": 4,
 "nbformat_minor": 2
}
