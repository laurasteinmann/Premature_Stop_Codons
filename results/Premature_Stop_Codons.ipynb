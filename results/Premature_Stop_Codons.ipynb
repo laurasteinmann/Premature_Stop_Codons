{
 "cells": [
  {
   "cell_type": "markdown",
   "metadata": {},
   "source": [
    "# Project Premature Stop Codons in *Arabidopsis thaliana*\n",
    "\n"
   ]
  },
  {
   "cell_type": "markdown",
   "metadata": {},
   "source": [
    "To manage live in an ecosystem organisms need to adapt to the specific abiotic and biotic factors around them. Especially for plants adaptation is important because they can not change their habitat during their lifespan. Adaptation can happen through multiple changes on cell, tissue and organism level, but the fundamental process that drive adaptation on the smallest scale are mutations. There are three categories of mutations, which have different effects on the process of transkription of DNA to RNA and the translation from the RNA to the protein. The first category of mutations are synonymous mutations. Synonymous mutations are point mutations in the DNA, which lead to a change in the  sequence of basepairs. **TODO ongoing introduction**"
   ]
  },
  {
   "cell_type": "markdown",
   "metadata": {},
   "source": [
    "## Setup Project structure"
   ]
  },
  {
   "cell_type": "markdown",
   "metadata": {},
   "source": [
    "## Ara11-Annotation"
   ]
  },
  {
   "cell_type": "markdown",
   "metadata": {},
   "source": [
    "### Analysing positions of gene locations "
   ]
  },
  {
   "cell_type": "markdown",
   "metadata": {},
   "source": [
    "For determining length or position of genes or RNAs we need information about the start of the 5'UTR, the start of the coding sequence, the stop of the coding sequence, the stop of the 3' UTR and the orientation of the gene on the DNA strand for each single gene in *A. thaliana*. For getting a detailed look at the different genes we actually look at the start  and stop of the protein as well as the UTR regions. This leads to multiple entries for different splice variants for one gene. Different splicing variants result in different protein start and stop and can also result in different 5'UTR and 3'UTR regions depending on the annotation in the Araport 11 file. We store all genes, which don't have a protein as a result for example miRNAs in a different table. For them only the information of where the gene starts and ends is available. We also generate a table for transposons, which contains the start and stop known for these transposons."
   ]
  },
  {
   "cell_type": "code",
   "execution_count": 1,
   "metadata": {},
   "outputs": [],
   "source": [
    "%run ../scripts/Ara11_Annotation.py"
   ]
  },
  {
   "cell_type": "code",
   "execution_count": 2,
   "metadata": {},
   "outputs": [
    {
     "data": {
      "text/html": [
       "<div>\n",
       "<style scoped>\n",
       "    .dataframe tbody tr th:only-of-type {\n",
       "        vertical-align: middle;\n",
       "    }\n",
       "\n",
       "    .dataframe tbody tr th {\n",
       "        vertical-align: top;\n",
       "    }\n",
       "\n",
       "    .dataframe thead th {\n",
       "        text-align: right;\n",
       "    }\n",
       "</style>\n",
       "<table border=\"1\" class=\"dataframe\">\n",
       "  <thead>\n",
       "    <tr style=\"text-align: right;\">\n",
       "      <th></th>\n",
       "      <th>Name</th>\n",
       "      <th>Orientation</th>\n",
       "      <th>Start_5UTR</th>\n",
       "      <th>Stop_5UTR</th>\n",
       "      <th>Start_Protein</th>\n",
       "      <th>Stop_Protein</th>\n",
       "      <th>Start_3UTR</th>\n",
       "      <th>Stop_3UTR</th>\n",
       "    </tr>\n",
       "  </thead>\n",
       "  <tbody>\n",
       "    <tr>\n",
       "      <th>0</th>\n",
       "      <td>AT1G01010.1</td>\n",
       "      <td>+</td>\n",
       "      <td>3631</td>\n",
       "      <td>3759</td>\n",
       "      <td>3760</td>\n",
       "      <td>5630</td>\n",
       "      <td>5631</td>\n",
       "      <td>5899</td>\n",
       "    </tr>\n",
       "    <tr>\n",
       "      <th>1</th>\n",
       "      <td>AT1G01020.1</td>\n",
       "      <td>-</td>\n",
       "      <td>8667</td>\n",
       "      <td>9130</td>\n",
       "      <td>6915</td>\n",
       "      <td>8666</td>\n",
       "      <td>6788</td>\n",
       "      <td>6914</td>\n",
       "    </tr>\n",
       "    <tr>\n",
       "      <th>2</th>\n",
       "      <td>AT1G01020.2</td>\n",
       "      <td>-</td>\n",
       "      <td>8667</td>\n",
       "      <td>8737</td>\n",
       "      <td>7315</td>\n",
       "      <td>8666</td>\n",
       "      <td>6788</td>\n",
       "      <td>7069</td>\n",
       "    </tr>\n",
       "    <tr>\n",
       "      <th>3</th>\n",
       "      <td>AT1G01020.3</td>\n",
       "      <td>-</td>\n",
       "      <td>8443</td>\n",
       "      <td>8464</td>\n",
       "      <td>6915</td>\n",
       "      <td>8442</td>\n",
       "      <td>6788</td>\n",
       "      <td>6914</td>\n",
       "    </tr>\n",
       "    <tr>\n",
       "      <th>4</th>\n",
       "      <td>AT1G01020.4</td>\n",
       "      <td>-</td>\n",
       "      <td>8594</td>\n",
       "      <td>9130</td>\n",
       "      <td>6915</td>\n",
       "      <td>8442</td>\n",
       "      <td>6788</td>\n",
       "      <td>6914</td>\n",
       "    </tr>\n",
       "    <tr>\n",
       "      <th>...</th>\n",
       "      <td>...</td>\n",
       "      <td>...</td>\n",
       "      <td>...</td>\n",
       "      <td>...</td>\n",
       "      <td>...</td>\n",
       "      <td>...</td>\n",
       "      <td>...</td>\n",
       "      <td>...</td>\n",
       "    </tr>\n",
       "    <tr>\n",
       "      <th>48354</th>\n",
       "      <td>ATMG01350.1</td>\n",
       "      <td>+</td>\n",
       "      <td>NaN</td>\n",
       "      <td>NaN</td>\n",
       "      <td>346757</td>\n",
       "      <td>347194</td>\n",
       "      <td>NaN</td>\n",
       "      <td>NaN</td>\n",
       "    </tr>\n",
       "    <tr>\n",
       "      <th>48355</th>\n",
       "      <td>ATMG01360.1</td>\n",
       "      <td>-</td>\n",
       "      <td>NaN</td>\n",
       "      <td>NaN</td>\n",
       "      <td>349830</td>\n",
       "      <td>351413</td>\n",
       "      <td>NaN</td>\n",
       "      <td>NaN</td>\n",
       "    </tr>\n",
       "    <tr>\n",
       "      <th>48356</th>\n",
       "      <td>ATMG01370.1</td>\n",
       "      <td>-</td>\n",
       "      <td>NaN</td>\n",
       "      <td>NaN</td>\n",
       "      <td>360717</td>\n",
       "      <td>361052</td>\n",
       "      <td>NaN</td>\n",
       "      <td>NaN</td>\n",
       "    </tr>\n",
       "    <tr>\n",
       "      <th>48357</th>\n",
       "      <td>ATMG01400.1</td>\n",
       "      <td>+</td>\n",
       "      <td>NaN</td>\n",
       "      <td>NaN</td>\n",
       "      <td>363725</td>\n",
       "      <td>364042</td>\n",
       "      <td>NaN</td>\n",
       "      <td>NaN</td>\n",
       "    </tr>\n",
       "    <tr>\n",
       "      <th>48358</th>\n",
       "      <td>ATMG01410.1</td>\n",
       "      <td>-</td>\n",
       "      <td>NaN</td>\n",
       "      <td>NaN</td>\n",
       "      <td>366086</td>\n",
       "      <td>366700</td>\n",
       "      <td>NaN</td>\n",
       "      <td>NaN</td>\n",
       "    </tr>\n",
       "  </tbody>\n",
       "</table>\n",
       "<p>48359 rows × 8 columns</p>\n",
       "</div>"
      ],
      "text/plain": [
       "              Name Orientation Start_5UTR Stop_5UTR Start_Protein  \\\n",
       "0      AT1G01010.1           +       3631      3759          3760   \n",
       "1      AT1G01020.1           -       8667      9130          6915   \n",
       "2      AT1G01020.2           -       8667      8737          7315   \n",
       "3      AT1G01020.3           -       8443      8464          6915   \n",
       "4      AT1G01020.4           -       8594      9130          6915   \n",
       "...            ...         ...        ...       ...           ...   \n",
       "48354  ATMG01350.1           +        NaN       NaN        346757   \n",
       "48355  ATMG01360.1           -        NaN       NaN        349830   \n",
       "48356  ATMG01370.1           -        NaN       NaN        360717   \n",
       "48357  ATMG01400.1           +        NaN       NaN        363725   \n",
       "48358  ATMG01410.1           -        NaN       NaN        366086   \n",
       "\n",
       "      Stop_Protein Start_3UTR Stop_3UTR  \n",
       "0             5630       5631      5899  \n",
       "1             8666       6788      6914  \n",
       "2             8666       6788      7069  \n",
       "3             8442       6788      6914  \n",
       "4             8442       6788      6914  \n",
       "...            ...        ...       ...  \n",
       "48354       347194        NaN       NaN  \n",
       "48355       351413        NaN       NaN  \n",
       "48356       361052        NaN       NaN  \n",
       "48357       364042        NaN       NaN  \n",
       "48358       366700        NaN       NaN  \n",
       "\n",
       "[48359 rows x 8 columns]"
      ]
     },
     "execution_count": 2,
     "metadata": {},
     "output_type": "execute_result"
    }
   ],
   "source": [
    "ara11_genes"
   ]
  },
  {
   "cell_type": "markdown",
   "metadata": {},
   "source": [
    "## Premature-Stop Attributes"
   ]
  },
  {
   "cell_type": "markdown",
   "metadata": {},
   "source": [
    "### Approach 1: Geneexpression Differences"
   ]
  },
  {
   "cell_type": "markdown",
   "metadata": {},
   "source": [
    "For the further analysis we need to have a functional dataset where we are sure that the premature stop codons have actual impact on the plant. For that we thought, that we compare gene expression patterns between the wildtype accessions and the ko-mutant accessions (containg the premature stop codons) and take all premature stop codons, which have a significant difference in these two groups. For that we use RNA-Seq data, which is also available from the 1001 Genomes Project and contains transcriptoms of 727 *A. thaliana* accessions. "
   ]
  },
  {
   "cell_type": "markdown",
   "metadata": {},
   "source": [
    "#### Preprocessing"
   ]
  },
  {
   "cell_type": "markdown",
   "metadata": {},
   "source": [
    "To make the raw data possible to analyze with the Python programming language, the vcf-format is processed to a standard csv-file format. This is done in the R script Preprocessing.r"
   ]
  },
  {
   "cell_type": "markdown",
   "metadata": {},
   "source": [
    "For a comfortable further analysis we need to simplify the gt-section in a more numerical format as well as filtering the gt-section and the expression dataset for their overlap. The RNA-Seq dataset has 727 different accessions of *A.thaliana*, which have 665 common accessions, where we have RNA-seq and genomic information."
   ]
  },
  {
   "cell_type": "code",
   "execution_count": 3,
   "metadata": {},
   "outputs": [],
   "source": [
    "%run ../scripts/Preprocessing_Genexpression.py"
   ]
  },
  {
   "cell_type": "markdown",
   "metadata": {},
   "source": [
    "#### Confidential Dataset "
   ]
  },
  {
   "cell_type": "markdown",
   "metadata": {},
   "source": [
    "We try to categorize the premature stop codons in 3 different classe: unsignificant gene expression change, significant decrease in gene expression and significant increase in gene expression.If a Premature Stop Codon is introduced in an ecotype of *A.thaliana* the gene expression should be significantly reduced. We calculate therefore the number of accessions with and without mutation (WT and ko-Mutant) and their mean."
   ]
  },
  {
   "cell_type": "markdown",
   "metadata": {},
   "source": [
    "Important facts (problems) about the analysis: The first problem we face for our analysis is the different annotations used for *A.thaliana*. Araport11 is the most recent annotation of *A. thaliana*, which detects lots of new genes in previously believed non-coding regions. But unfortunately the RNA-Seq data of *A. thaliana* was mapped to the older version which is called TAIR10. Our approach will be based on the analysis of the genomic premature stop codons mapped (annotated) to the Araport11 annotation and selecting just these premature stop codons which are included in our RNA-Seq dataset (annotated with TAIR10). We calculate the number of wildtype and ko-mutant accessions for each premature stop codon and also store the names of these accessions. Then we calculate their mean of expression and the standard deviation. Between the steps we filter out all premature stop codons, which either have no wildtype accession or no ko-mutant accession. We select all significant premature stop codons, which have either passed a 0.05 threshold or a bonferroni corrected threshold. And select to different types. Premature stop codons, which lead to a significant decrease in gene expression and on the other hand a significant increase of gene expression. Until now we analysed the gene expression for every single premature stop codon. Since we can only compare the gene expression on gene level we combine all significant premature stop codons from one gene as a last step. "
   ]
  },
  {
   "cell_type": "code",
   "execution_count": 19,
   "metadata": {},
   "outputs": [
    {
     "name": "stdout",
     "output_type": "stream",
     "text": [
      "Full List of Premature Stop Codons Ara11 contain:  29029\n",
      "Filtered List of Premature Stop Codons after removing unknown genes of Ara11:  17046\n",
      "The final list of Premature Stop Codons before calculating the pvalues includes:  7124\n",
      "Significant premature stop codons with increase of gene expression  742\n",
      "Significant premature stop codons with decrease of gene expression  949\n",
      "Bonferroni corrected significant premature stop codons with increase of gene expression  269\n",
      "Bonferroni corrected significant premature stop codons with decreased of gene expression  247\n",
      "After merging the single stop premature stop codons on a gene based level:  235\n"
     ]
    }
   ],
   "source": [
    "%run ../scripts/Geneexpression_Differences.py"
   ]
  },
  {
   "cell_type": "markdown",
   "metadata": {},
   "source": [
    "First we look at some common features of the premature stop codons in the 1001 Genomes project."
   ]
  },
  {
   "cell_type": "code",
   "execution_count": 5,
   "metadata": {},
   "outputs": [
    {
     "data": {
      "image/png": "[encoded data removed]",
      "text/plain": [
       "<Figure size 576x432 with 2 Axes>"
      ]
     },
     "metadata": {
      "needs_background": "light"
     },
     "output_type": "display_data"
    }
   ],
   "source": [
    "import pandas as pd \n",
    "import numpy as np\n",
    "import matplotlib.pyplot as plt \n",
    "\n",
    "gt_section = pd.read_csv('../data/preprocessed/GT_Section_Numeric_Overlap.csv', index_col=0)\n",
    "stop_table_plot = pd.read_csv('../data/preprocessed/Stop_Table_Full.csv', index_col=0)\n",
    "genes = np.unique(stop_table_plot.Gene)\n",
    "\n",
    "numbers_gene_count = []\n",
    "for gene in genes:\n",
    "    subset = stop_table_plot[stop_table_plot['Gene'] == gene]\n",
    "    numbers_gene_count.append(subset.shape[0])\n",
    "\n",
    "numbers_premature_stops = gt_section.sum(axis=1)\n",
    "accessions = np.arange(0, len(gt_section.index.values))\n",
    "fig = plt.figure(figsize=(8, 6))\n",
    "gs = fig.add_gridspec(2, 1)\n",
    "ax1 = fig.add_subplot(gs[0, 0])\n",
    "ax1.scatter(accessions, numbers_premature_stops, alpha=0.7)\n",
    "ax1.set_xlabel('Accessions of A. thaliana')\n",
    "ax1.set_ylabel('Number of Premature Stop Codons')\n",
    "ax1.set_title('Distribution of Premature Stop Codons in 1135 Accessions of A. thaliana')\n",
    "ax2 = fig.add_subplot(gs[1, 0])\n",
    "ax2.hist(numbers_gene_count, bins=60);\n",
    "ax2.set_xlim(0, 60);\n",
    "ax2.set_xlabel('Number of Premature Stop Codons in a gene')\n",
    "ax2.set_ylabel('Number of Genes')\n",
    "fig.tight_layout()\n",
    "output_file = \"figures/Distribution_Premature_Stop_Codons.png\"\n",
    "plt.savefig(output_file, dpi=700, facecolor='w')\n",
    "plt.show()\n"
   ]
  },
  {
   "cell_type": "markdown",
   "metadata": {},
   "source": [
    "Now we can have a illustration of the three categories of gene expression differences:"
   ]
  },
  {
   "cell_type": "code",
   "execution_count": 18,
   "metadata": {},
   "outputs": [
    {
     "data": {
      "image/png": "[encoded data removed]",
      "text/plain": [
       "<Figure size 576x216 with 3 Axes>"
      ]
     },
     "metadata": {
      "needs_background": "light"
     },
     "output_type": "display_data"
    }
   ],
   "source": [
    "import pandas as pd \n",
    "import seaborn as sns\n",
    "import matplotlib.pyplot as plt\n",
    "\n",
    "small_att = stop_list_bonferroni_low_expression.iloc[0, :]\n",
    "wildtype = expression_overlap.loc[small_att.WT_acc, small_att.Gene]\n",
    "ko_mutant = expression_overlap.loc[small_att.KO_acc, small_att.Gene]\n",
    "plot_df = pd.DataFrame(columns=['Type', 'Expression'])\n",
    "for plant in range(wildtype.shape[0]):\n",
    "    new_row = {'Type': ['Wildtype'], 'Expression': [wildtype.iloc[plant]]}\n",
    "    new = pd.DataFrame.from_dict(new_row)\n",
    "    plot_df = pd.concat([plot_df, new], ignore_index=True)\n",
    "\n",
    "for plant in range(ko_mutant.shape[0]):\n",
    "    new_row = {'Type': ['K0_Mutant'], 'Expression': [ko_mutant.iloc[plant]]}\n",
    "    new = pd.DataFrame.from_dict(new_row)\n",
    "    plot_df = pd.concat([plot_df, new], ignore_index=True)\n",
    "\n",
    "plot_df['Expression'] = plot_df.Expression.astype('float')\n",
    "\n",
    "big_p_subset = stop_table[stop_table['pvalue'] == stop_table['pvalue'].max()]\n",
    "big_att = big_p_subset.iloc[0, :]\n",
    "wildtype = expression_overlap.loc[big_att.WT_acc, big_att.Gene]\n",
    "ko_mutant = expression_overlap.loc[big_att.KO_acc, big_att.Gene]\n",
    "plot_df2 = pd.DataFrame(columns=['Type', 'Expression'])\n",
    "for plant in range(wildtype.shape[0]):\n",
    "    new_row = {'Type': ['Wildtype'], 'Expression': [wildtype.iloc[plant]]}\n",
    "    new = pd.DataFrame.from_dict(new_row)\n",
    "    plot_df2 = pd.concat([plot_df2, new], ignore_index=True)\n",
    "\n",
    "for plant in range(ko_mutant.shape[0]):\n",
    "    new_row = {'Type': ['K0_Mutant'], 'Expression': [ko_mutant.iloc[plant]]}\n",
    "    new = pd.DataFrame.from_dict(new_row)\n",
    "    plot_df2 = pd.concat([plot_df2, new], ignore_index=True)\n",
    "\n",
    "plot_df2['Expression'] = plot_df2.Expression.astype('float')\n",
    "\n",
    "over_att = stop_list_bonferroni_high_expression.iloc[0, :]\n",
    "wildtype = expression_overlap.loc[over_att.WT_acc, over_att.Gene]\n",
    "ko_mutant = expression_overlap.loc[over_att.KO_acc, over_att.Gene]\n",
    "plot_df3 = pd.DataFrame(columns=['Type', 'Expression'])\n",
    "\n",
    "for plant in range(wildtype.shape[0]):\n",
    "    new_row = {'Type': ['Wildtype'], 'Expression': [wildtype.iloc[plant]]}\n",
    "    new = pd.DataFrame.from_dict(new_row)\n",
    "    plot_df3 = pd.concat([plot_df3, new], ignore_index=True)\n",
    "\n",
    "for plant in range(ko_mutant.shape[0]):\n",
    "    new_row = {'Type': ['K0_Mutant'], 'Expression': [ko_mutant.iloc[plant]]}\n",
    "    new = pd.DataFrame.from_dict(new_row)\n",
    "    plot_df3 = pd.concat([plot_df3, new], ignore_index=True)\n",
    "\n",
    "plot_df3['Expression'] = plot_df3.Expression.astype('float')\n",
    "label1 = \"Expression \" + str(small_att.Gene)\n",
    "label2 = \"Expression \" + str(big_att.Gene)\n",
    "label3 = \"Expression \" + str(over_att.Gene)\n",
    "fig = plt.figure(figsize=(8, 3))\n",
    "gs = fig.add_gridspec(1, 3)\n",
    "\n",
    "ax = fig.add_subplot(gs[0, 0])\n",
    "sns.violinplot(x='Type', y='Expression', data=plot_df2)\n",
    "ax.set_xlabel(\"Type I: Unchanged Expression\")\n",
    "ax.set_ylabel(label2)\n",
    "ax = fig.add_subplot(gs[0, 1])\n",
    "sns.violinplot(x='Type', y= 'Expression', data=plot_df)\n",
    "ax.set_xlabel(\"Type II: Decrease of Expression\")\n",
    "ax.set_ylabel(label1)\n",
    "ax = fig.add_subplot(gs[0, 2])\n",
    "sns.violinplot(x='Type', y='Expression', data=plot_df3)\n",
    "ax.set_xlabel(\"Type III: Increase of Expression\")\n",
    "ax.set_ylabel(label3)\n",
    "fig.tight_layout()\n",
    "output_file = \"figures/Cathegories_Premature_Stop_Codons.png\"\n",
    "plt.savefig(output_file, dpi=700, facecolor='w')\n",
    "plt.show()"
   ]
  },
  {
   "cell_type": "code",
   "execution_count": 7,
   "metadata": {},
   "outputs": [
    {
     "data": {
      "text/html": [
       "<div>\n",
       "<style scoped>\n",
       "    .dataframe tbody tr th:only-of-type {\n",
       "        vertical-align: middle;\n",
       "    }\n",
       "\n",
       "    .dataframe tbody tr th {\n",
       "        vertical-align: top;\n",
       "    }\n",
       "\n",
       "    .dataframe thead th {\n",
       "        text-align: right;\n",
       "    }\n",
       "</style>\n",
       "<table border=\"1\" class=\"dataframe\">\n",
       "  <thead>\n",
       "    <tr style=\"text-align: right;\">\n",
       "      <th></th>\n",
       "      <th>Gene</th>\n",
       "      <th>Prem_Stop_Codons_Num</th>\n",
       "      <th>WT_num</th>\n",
       "      <th>WT_acc</th>\n",
       "      <th>KO_num</th>\n",
       "      <th>KO_acc</th>\n",
       "      <th>na_Num</th>\n",
       "      <th>na_Acc</th>\n",
       "    </tr>\n",
       "  </thead>\n",
       "  <tbody>\n",
       "    <tr>\n",
       "      <th>0</th>\n",
       "      <td>AT1G02300</td>\n",
       "      <td>1</td>\n",
       "      <td>84</td>\n",
       "      <td>[424.0, 428.0, 915.0, 1066.0, 1829.0, 2171.0, ...</td>\n",
       "      <td>566</td>\n",
       "      <td>[108.0, 139.0, 159.0, 265.0, 350.0, 351.0, 403...</td>\n",
       "      <td>15</td>\n",
       "      <td>[9518.0, 9661.0, 9666.0, 9738.0, 9788.0, 9946....</td>\n",
       "    </tr>\n",
       "    <tr>\n",
       "      <th>1</th>\n",
       "      <td>AT1G03710</td>\n",
       "      <td>1</td>\n",
       "      <td>502</td>\n",
       "      <td>[108.0, 139.0, 159.0, 265.0, 350.0, 351.0, 410...</td>\n",
       "      <td>2</td>\n",
       "      <td>[9542.0, 9549.0]</td>\n",
       "      <td>161</td>\n",
       "      <td>[403.0, 1317.0, 1925.0, 5210.0, 5395.0, 5717.0...</td>\n",
       "    </tr>\n",
       "    <tr>\n",
       "      <th>2</th>\n",
       "      <td>AT1G04400</td>\n",
       "      <td>1</td>\n",
       "      <td>562</td>\n",
       "      <td>[108.0, 139.0, 265.0, 350.0, 351.0, 403.0, 506...</td>\n",
       "      <td>82</td>\n",
       "      <td>[424.0, 915.0, 997.0, 1002.0, 1066.0, 1317.0, ...</td>\n",
       "      <td>21</td>\n",
       "      <td>[159.0, 410.0, 428.0, 5023.0, 5874.0, 5993.0, ...</td>\n",
       "    </tr>\n",
       "    <tr>\n",
       "      <th>3</th>\n",
       "      <td>AT1G04580</td>\n",
       "      <td>1</td>\n",
       "      <td>395</td>\n",
       "      <td>[108.0, 139.0, 159.0, 265.0, 351.0, 403.0, 410...</td>\n",
       "      <td>231</td>\n",
       "      <td>[763.0, 768.0, 801.0, 1002.0, 1158.0, 1872.0, ...</td>\n",
       "      <td>31</td>\n",
       "      <td>[350.0, 424.0, 428.0, 630.0, 5720.0, 5768.0, 5...</td>\n",
       "    </tr>\n",
       "    <tr>\n",
       "      <th>4</th>\n",
       "      <td>AT1G05740</td>\n",
       "      <td>1</td>\n",
       "      <td>614</td>\n",
       "      <td>[139.0, 159.0, 265.0, 350.0, 351.0, 403.0, 410...</td>\n",
       "      <td>2</td>\n",
       "      <td>[1317.0, 6424.0]</td>\n",
       "      <td>49</td>\n",
       "      <td>[108.0, 1002.0, 5104.0, 5984.0, 6008.0, 6108.0...</td>\n",
       "    </tr>\n",
       "    <tr>\n",
       "      <th>...</th>\n",
       "      <td>...</td>\n",
       "      <td>...</td>\n",
       "      <td>...</td>\n",
       "      <td>...</td>\n",
       "      <td>...</td>\n",
       "      <td>...</td>\n",
       "      <td>...</td>\n",
       "      <td>...</td>\n",
       "    </tr>\n",
       "    <tr>\n",
       "      <th>230</th>\n",
       "      <td>AT5G54390</td>\n",
       "      <td>1</td>\n",
       "      <td>530</td>\n",
       "      <td>[108.0, 159.0, 350.0, 351.0, 403.0, 410.0, 428...</td>\n",
       "      <td>78</td>\n",
       "      <td>[1002.0, 5349.0, 5860.0, 6099.0, 6107.0, 6220....</td>\n",
       "      <td>57</td>\n",
       "      <td>[139.0, 265.0, 424.0, 932.0, 5023.0, 5276.0, 5...</td>\n",
       "    </tr>\n",
       "    <tr>\n",
       "      <th>231</th>\n",
       "      <td>AT5G58220</td>\n",
       "      <td>1</td>\n",
       "      <td>573</td>\n",
       "      <td>[159.0, 265.0, 350.0, 351.0, 403.0, 410.0, 424...</td>\n",
       "      <td>66</td>\n",
       "      <td>[870.0, 997.0, 1829.0, 1925.0, 1954.0, 2016.0,...</td>\n",
       "      <td>26</td>\n",
       "      <td>[108.0, 139.0, 915.0, 5779.0, 6744.0, 6974.0, ...</td>\n",
       "    </tr>\n",
       "    <tr>\n",
       "      <th>232</th>\n",
       "      <td>AT5G59270</td>\n",
       "      <td>1</td>\n",
       "      <td>444</td>\n",
       "      <td>[108.0, 139.0, 159.0, 265.0, 350.0, 351.0, 410...</td>\n",
       "      <td>137</td>\n",
       "      <td>[506.0, 687.0, 728.0, 801.0, 932.0, 1066.0, 13...</td>\n",
       "      <td>84</td>\n",
       "      <td>[403.0, 428.0, 763.0, 768.0, 915.0, 1741.0, 19...</td>\n",
       "    </tr>\n",
       "    <tr>\n",
       "      <th>233</th>\n",
       "      <td>AT5G62998</td>\n",
       "      <td>1</td>\n",
       "      <td>642</td>\n",
       "      <td>[108.0, 139.0, 159.0, 265.0, 350.0, 351.0, 410...</td>\n",
       "      <td>6</td>\n",
       "      <td>[6106.0, 6111.0, 6201.0, 6974.0, 9409.0, 9421.0]</td>\n",
       "      <td>17</td>\n",
       "      <td>[403.0, 5210.0, 6296.0, 6445.0, 9510.0, 9630.0...</td>\n",
       "    </tr>\n",
       "    <tr>\n",
       "      <th>234</th>\n",
       "      <td>AT5G66830</td>\n",
       "      <td>1</td>\n",
       "      <td>207</td>\n",
       "      <td>[108.0, 139.0, 159.0, 350.0, 403.0, 630.0, 870...</td>\n",
       "      <td>430</td>\n",
       "      <td>[265.0, 351.0, 410.0, 424.0, 428.0, 506.0, 687...</td>\n",
       "      <td>28</td>\n",
       "      <td>[5800.0, 5822.0, 5831.0, 6255.0, 7161.0, 8239....</td>\n",
       "    </tr>\n",
       "  </tbody>\n",
       "</table>\n",
       "<p>235 rows × 8 columns</p>\n",
       "</div>"
      ],
      "text/plain": [
       "          Gene  Prem_Stop_Codons_Num  WT_num  \\\n",
       "0    AT1G02300                     1      84   \n",
       "1    AT1G03710                     1     502   \n",
       "2    AT1G04400                     1     562   \n",
       "3    AT1G04580                     1     395   \n",
       "4    AT1G05740                     1     614   \n",
       "..         ...                   ...     ...   \n",
       "230  AT5G54390                     1     530   \n",
       "231  AT5G58220                     1     573   \n",
       "232  AT5G59270                     1     444   \n",
       "233  AT5G62998                     1     642   \n",
       "234  AT5G66830                     1     207   \n",
       "\n",
       "                                                WT_acc  KO_num  \\\n",
       "0    [424.0, 428.0, 915.0, 1066.0, 1829.0, 2171.0, ...     566   \n",
       "1    [108.0, 139.0, 159.0, 265.0, 350.0, 351.0, 410...       2   \n",
       "2    [108.0, 139.0, 265.0, 350.0, 351.0, 403.0, 506...      82   \n",
       "3    [108.0, 139.0, 159.0, 265.0, 351.0, 403.0, 410...     231   \n",
       "4    [139.0, 159.0, 265.0, 350.0, 351.0, 403.0, 410...       2   \n",
       "..                                                 ...     ...   \n",
       "230  [108.0, 159.0, 350.0, 351.0, 403.0, 410.0, 428...      78   \n",
       "231  [159.0, 265.0, 350.0, 351.0, 403.0, 410.0, 424...      66   \n",
       "232  [108.0, 139.0, 159.0, 265.0, 350.0, 351.0, 410...     137   \n",
       "233  [108.0, 139.0, 159.0, 265.0, 350.0, 351.0, 410...       6   \n",
       "234  [108.0, 139.0, 159.0, 350.0, 403.0, 630.0, 870...     430   \n",
       "\n",
       "                                                KO_acc  na_Num  \\\n",
       "0    [108.0, 139.0, 159.0, 265.0, 350.0, 351.0, 403...      15   \n",
       "1                                     [9542.0, 9549.0]     161   \n",
       "2    [424.0, 915.0, 997.0, 1002.0, 1066.0, 1317.0, ...      21   \n",
       "3    [763.0, 768.0, 801.0, 1002.0, 1158.0, 1872.0, ...      31   \n",
       "4                                     [1317.0, 6424.0]      49   \n",
       "..                                                 ...     ...   \n",
       "230  [1002.0, 5349.0, 5860.0, 6099.0, 6107.0, 6220....      57   \n",
       "231  [870.0, 997.0, 1829.0, 1925.0, 1954.0, 2016.0,...      26   \n",
       "232  [506.0, 687.0, 728.0, 801.0, 932.0, 1066.0, 13...      84   \n",
       "233   [6106.0, 6111.0, 6201.0, 6974.0, 9409.0, 9421.0]      17   \n",
       "234  [265.0, 351.0, 410.0, 424.0, 428.0, 506.0, 687...      28   \n",
       "\n",
       "                                                na_Acc  \n",
       "0    [9518.0, 9661.0, 9666.0, 9738.0, 9788.0, 9946....  \n",
       "1    [403.0, 1317.0, 1925.0, 5210.0, 5395.0, 5717.0...  \n",
       "2    [159.0, 410.0, 428.0, 5023.0, 5874.0, 5993.0, ...  \n",
       "3    [350.0, 424.0, 428.0, 630.0, 5720.0, 5768.0, 5...  \n",
       "4    [108.0, 1002.0, 5104.0, 5984.0, 6008.0, 6108.0...  \n",
       "..                                                 ...  \n",
       "230  [139.0, 265.0, 424.0, 932.0, 5023.0, 5276.0, 5...  \n",
       "231  [108.0, 139.0, 915.0, 5779.0, 6744.0, 6974.0, ...  \n",
       "232  [403.0, 428.0, 763.0, 768.0, 915.0, 1741.0, 19...  \n",
       "233  [403.0, 5210.0, 6296.0, 6445.0, 9510.0, 9630.0...  \n",
       "234  [5800.0, 5822.0, 5831.0, 6255.0, 7161.0, 8239....  \n",
       "\n",
       "[235 rows x 8 columns]"
      ]
     },
     "execution_count": 7,
     "metadata": {},
     "output_type": "execute_result"
    }
   ],
   "source": [
    "gene_premature_stop_list"
   ]
  },
  {
   "cell_type": "markdown",
   "metadata": {},
   "source": [
    "### Approach 2: Calculation of length of mRNA"
   ]
  },
  {
   "cell_type": "markdown",
   "metadata": {},
   "source": [
    "The second approach is based on the calculation of the remaining length of the mRNA. The idea behind it is based on the hypothesis, that a stop codon at the end of a gene is not so severe then right at the start. If the protein is very truncated it should be unfunctional. That means, that we calculate the relative length in the following analysis and select genes which are in a threshold of 30% percent and a second threshold which includes as in the first approach a list of 247 premature stops. "
   ]
  },
  {
   "cell_type": "code",
   "execution_count": 16,
   "metadata": {},
   "outputs": [
    {
     "name": "stdout",
     "output_type": "stream",
     "text": [
      "Second_Threshold:  0.47953964194373405\n"
     ]
    }
   ],
   "source": [
    "%run ../scripts/Length_mRNA.py"
   ]
  },
  {
   "cell_type": "code",
   "execution_count": 12,
   "metadata": {},
   "outputs": [
    {
     "data": {
      "text/html": [
       "<div>\n",
       "<style scoped>\n",
       "    .dataframe tbody tr th:only-of-type {\n",
       "        vertical-align: middle;\n",
       "    }\n",
       "\n",
       "    .dataframe tbody tr th {\n",
       "        vertical-align: top;\n",
       "    }\n",
       "\n",
       "    .dataframe thead th {\n",
       "        text-align: right;\n",
       "    }\n",
       "</style>\n",
       "<table border=\"1\" class=\"dataframe\">\n",
       "  <thead>\n",
       "    <tr style=\"text-align: right;\">\n",
       "      <th></th>\n",
       "      <th>Chrom</th>\n",
       "      <th>Pos</th>\n",
       "      <th>Gene</th>\n",
       "      <th>Start_Protein</th>\n",
       "      <th>Stop_Protein</th>\n",
       "      <th>Length</th>\n",
       "      <th>Relative_Length</th>\n",
       "    </tr>\n",
       "  </thead>\n",
       "  <tbody>\n",
       "    <tr>\n",
       "      <th>0</th>\n",
       "      <td>1</td>\n",
       "      <td>40316</td>\n",
       "      <td>AT1G01070</td>\n",
       "      <td>38898</td>\n",
       "      <td>40877</td>\n",
       "      <td>1418</td>\n",
       "      <td>71.65235</td>\n",
       "    </tr>\n",
       "    <tr>\n",
       "      <th>2</th>\n",
       "      <td>1</td>\n",
       "      <td>57397</td>\n",
       "      <td>AT1G01120</td>\n",
       "      <td>57392</td>\n",
       "      <td>58978</td>\n",
       "      <td>5</td>\n",
       "      <td>0.315259</td>\n",
       "    </tr>\n",
       "    <tr>\n",
       "      <th>3</th>\n",
       "      <td>1</td>\n",
       "      <td>61925</td>\n",
       "      <td>AT1G01130</td>\n",
       "      <td>61905</td>\n",
       "      <td>63811</td>\n",
       "      <td>20</td>\n",
       "      <td>1.049318</td>\n",
       "    </tr>\n",
       "    <tr>\n",
       "      <th>4</th>\n",
       "      <td>1</td>\n",
       "      <td>64403</td>\n",
       "      <td>AT1G01140</td>\n",
       "      <td>64398</td>\n",
       "      <td>67512</td>\n",
       "      <td>5</td>\n",
       "      <td>0.160565</td>\n",
       "    </tr>\n",
       "    <tr>\n",
       "      <th>5</th>\n",
       "      <td>1</td>\n",
       "      <td>83241</td>\n",
       "      <td>AT1G01190</td>\n",
       "      <td>83045</td>\n",
       "      <td>84864</td>\n",
       "      <td>196</td>\n",
       "      <td>10.775151</td>\n",
       "    </tr>\n",
       "    <tr>\n",
       "      <th>...</th>\n",
       "      <td>...</td>\n",
       "      <td>...</td>\n",
       "      <td>...</td>\n",
       "      <td>...</td>\n",
       "      <td>...</td>\n",
       "      <td>...</td>\n",
       "      <td>...</td>\n",
       "    </tr>\n",
       "    <tr>\n",
       "      <th>29024</th>\n",
       "      <td>5</td>\n",
       "      <td>26898888</td>\n",
       "      <td>AT5G67411</td>\n",
       "      <td>26898401</td>\n",
       "      <td>26899097</td>\n",
       "      <td>487</td>\n",
       "      <td>69.971264</td>\n",
       "    </tr>\n",
       "    <tr>\n",
       "      <th>29025</th>\n",
       "      <td>5</td>\n",
       "      <td>26932323</td>\n",
       "      <td>AT5G67480</td>\n",
       "      <td>26931055</td>\n",
       "      <td>26932496</td>\n",
       "      <td>1268</td>\n",
       "      <td>87.994448</td>\n",
       "    </tr>\n",
       "    <tr>\n",
       "      <th>29026</th>\n",
       "      <td>5</td>\n",
       "      <td>26935820</td>\n",
       "      <td>AT5G67500</td>\n",
       "      <td>26935223</td>\n",
       "      <td>26937650</td>\n",
       "      <td>597</td>\n",
       "      <td>24.598269</td>\n",
       "    </tr>\n",
       "    <tr>\n",
       "      <th>29027</th>\n",
       "      <td>5</td>\n",
       "      <td>26954660</td>\n",
       "      <td>AT5G67570</td>\n",
       "      <td>26952352</td>\n",
       "      <td>26955480</td>\n",
       "      <td>2308</td>\n",
       "      <td>73.785166</td>\n",
       "    </tr>\n",
       "    <tr>\n",
       "      <th>29028</th>\n",
       "      <td>5</td>\n",
       "      <td>26970478</td>\n",
       "      <td>AT5G67640</td>\n",
       "      <td>26969546</td>\n",
       "      <td>26970548</td>\n",
       "      <td>932</td>\n",
       "      <td>93.013972</td>\n",
       "    </tr>\n",
       "  </tbody>\n",
       "</table>\n",
       "<p>27623 rows × 7 columns</p>\n",
       "</div>"
      ],
      "text/plain": [
       "       Chrom       Pos       Gene Start_Protein Stop_Protein Length  \\\n",
       "0          1     40316  AT1G01070         38898        40877   1418   \n",
       "2          1     57397  AT1G01120         57392        58978      5   \n",
       "3          1     61925  AT1G01130         61905        63811     20   \n",
       "4          1     64403  AT1G01140         64398        67512      5   \n",
       "5          1     83241  AT1G01190         83045        84864    196   \n",
       "...      ...       ...        ...           ...          ...    ...   \n",
       "29024      5  26898888  AT5G67411      26898401     26899097    487   \n",
       "29025      5  26932323  AT5G67480      26931055     26932496   1268   \n",
       "29026      5  26935820  AT5G67500      26935223     26937650    597   \n",
       "29027      5  26954660  AT5G67570      26952352     26955480   2308   \n",
       "29028      5  26970478  AT5G67640      26969546     26970548    932   \n",
       "\n",
       "      Relative_Length  \n",
       "0            71.65235  \n",
       "2            0.315259  \n",
       "3            1.049318  \n",
       "4            0.160565  \n",
       "5           10.775151  \n",
       "...               ...  \n",
       "29024       69.971264  \n",
       "29025       87.994448  \n",
       "29026       24.598269  \n",
       "29027       73.785166  \n",
       "29028       93.013972  \n",
       "\n",
       "[27623 rows x 7 columns]"
      ]
     },
     "execution_count": 12,
     "metadata": {},
     "output_type": "execute_result"
    }
   ],
   "source": [
    "results_table"
   ]
  },
  {
   "cell_type": "code",
   "execution_count": 17,
   "metadata": {},
   "outputs": [
    {
     "data": {
      "image/png": "[encoded data removed]",
      "text/plain": [
       "<Figure size 576x432 with 1 Axes>"
      ]
     },
     "metadata": {
      "needs_background": "light"
     },
     "output_type": "display_data"
    }
   ],
   "source": [
    "import matplotlib.pyplot as plt\n",
    "\n",
    "relative_length = results_table.Relative_Length\n",
    "\n",
    "fig = plt.figure(figsize=(8, 6))\n",
    "gs = fig.add_gridspec(1, 1)\n",
    "ax1 = fig.add_subplot(gs[0, 0])\n",
    "ax1.hist(relative_length, bins=100);\n",
    "ax1.set_xlim(0,100)\n",
    "ax1.set_ylim(0,650)\n",
    "ax1.set_xlabel('Relative Length of remaining mRNA Length in %')\n",
    "ax1.set_ylabel('Number Premature Stop Codons')\n",
    "ax1.set_title('Remaining Lengths of mRNAs after the occurrence of a premature stop codon')\n",
    "plt.axvline(x=30, color='C1', label='30% Threshold')\n",
    "plt.axvline(x=0.47, color='C3', label='Equal number of Premature Stop Codons to Approach 1')\n",
    "plt.legend()\n",
    "fig.tight_layout()\n",
    "output_file = \"figures/Remaining_Length.png\"\n",
    "plt.savefig(output_file, dpi=700, facecolor='w')\n",
    "plt.show()\n"
   ]
  },
  {
   "cell_type": "markdown",
   "metadata": {},
   "source": [
    "### Compare the two Approachs"
   ]
  },
  {
   "cell_type": "markdown",
   "metadata": {},
   "source": [
    "Study how much overlap the two approaches do have and visualize it in an venn diagramm. "
   ]
  },
  {
   "cell_type": "code",
   "execution_count": null,
   "metadata": {},
   "outputs": [],
   "source": [
    "%run Compare_Approaches.py"
   ]
  },
  {
   "cell_type": "markdown",
   "metadata": {},
   "source": [
    "## Control with Synonymous and Non-Synonymous Mutations"
   ]
  }
 ],
 "metadata": {
  "interpreter": {
   "hash": "ac1bc1fee816c861628f5010bc668025382ee6a8fa6cf0a3da56c2b4dd6f469c"
  },
  "kernelspec": {
   "display_name": "Python 3.10.2 ('Premature_Stop_Codons')",
   "language": "python",
   "name": "python3"
  },
  "language_info": {
   "codemirror_mode": {
    "name": "ipython",
    "version": 3
   },
   "file_extension": ".py",
   "mimetype": "text/x-python",
   "name": "python",
   "nbconvert_exporter": "python",
   "pygments_lexer": "ipython3",
   "version": "3.10.2"
  },
  "orig_nbformat": 4
 },
 "nbformat": 4,
 "nbformat_minor": 2
}
