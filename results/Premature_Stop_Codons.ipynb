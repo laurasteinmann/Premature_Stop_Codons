{
 "cells": [
  {
   "cell_type": "markdown",
   "metadata": {},
   "source": [
    "# Project Premature Stop Codons in *Arabidopsis thaliana*\n",
    "\n"
   ]
  },
  {
   "cell_type": "markdown",
   "metadata": {},
   "source": [
    "To manage live in an ecosystem organisms need to adapt to the specific abiotic and biotic factors arount them. Especially for plants adaptation is important because they can not change their habitat during their lifespan. Adaptation can happen through multiple changes on cell, tissue and organism level, but the fundamental process that drive adaptation on the smallest scale are mutations. There are three categories of mutations, which have different effects on the process of transkription of DNA to RNA and the translation from the RNA to the protein. The first category of mutations are synonymous mutations. **TODO ongoing introduction**"
   ]
  },
  {
   "cell_type": "markdown",
   "metadata": {},
   "source": [
    "## Ara11-Annotation"
   ]
  },
  {
   "cell_type": "markdown",
   "metadata": {},
   "source": [
    "### Analysing positions of gene locations "
   ]
  },
  {
   "cell_type": "markdown",
   "metadata": {},
   "source": [
    "For determining length or position of genes or RNAs we need information about the start of the 5'UTR, the start of the coding sequence, the stop of the coding sequence, the stop of the 3' UTR and the orientation of the gene on the DNA strand for each single gene in *A. thaliana*. For getting a detailed look at the different genes we actually look at the start  and stop of the protein as well as the UTR regions. This leads to multiple entries for different splice variants for one gene. Different splicing variants result in different protein start and stop and can also result in different 5'UTR and 3'UTR regions depending on the annotation in the Araport 11 file. We store all genes, which don't have a protein as a result for example miRNAs in a different table. For them only the information of where the gene starts and ends is available. "
   ]
  },
  {
   "cell_type": "code",
   "execution_count": 2,
   "metadata": {},
   "outputs": [],
   "source": [
    "import pandas as pd"
   ]
  },
  {
   "cell_type": "code",
   "execution_count": null,
   "metadata": {},
   "outputs": [],
   "source": [
    "%run Ara11_Annotation.py"
   ]
  },
  {
   "cell_type": "code",
   "execution_count": 7,
   "metadata": {},
   "outputs": [
    {
     "data": {
      "text/html": [
       "<div>\n",
       "<style scoped>\n",
       "    .dataframe tbody tr th:only-of-type {\n",
       "        vertical-align: middle;\n",
       "    }\n",
       "\n",
       "    .dataframe tbody tr th {\n",
       "        vertical-align: top;\n",
       "    }\n",
       "\n",
       "    .dataframe thead th {\n",
       "        text-align: right;\n",
       "    }\n",
       "</style>\n",
       "<table border=\"1\" class=\"dataframe\">\n",
       "  <thead>\n",
       "    <tr style=\"text-align: right;\">\n",
       "      <th></th>\n",
       "      <th>Name</th>\n",
       "      <th>Orientation</th>\n",
       "      <th>Start_5UTR</th>\n",
       "      <th>Stop_5UTR</th>\n",
       "      <th>Start_Protein</th>\n",
       "      <th>Stop_Protein</th>\n",
       "      <th>Start_3UTR</th>\n",
       "      <th>Stop_3UTR</th>\n",
       "    </tr>\n",
       "  </thead>\n",
       "  <tbody>\n",
       "    <tr>\n",
       "      <th>0</th>\n",
       "      <td>AT1G01010.1</td>\n",
       "      <td>+</td>\n",
       "      <td>3631.0</td>\n",
       "      <td>3759.0</td>\n",
       "      <td>3760</td>\n",
       "      <td>5630</td>\n",
       "      <td>5631.0</td>\n",
       "      <td>5899.0</td>\n",
       "    </tr>\n",
       "    <tr>\n",
       "      <th>1</th>\n",
       "      <td>AT1G01020.1</td>\n",
       "      <td>-</td>\n",
       "      <td>8667.0</td>\n",
       "      <td>9130.0</td>\n",
       "      <td>6915</td>\n",
       "      <td>8666</td>\n",
       "      <td>6788.0</td>\n",
       "      <td>6914.0</td>\n",
       "    </tr>\n",
       "    <tr>\n",
       "      <th>2</th>\n",
       "      <td>AT1G01020.2</td>\n",
       "      <td>-</td>\n",
       "      <td>8667.0</td>\n",
       "      <td>8737.0</td>\n",
       "      <td>7315</td>\n",
       "      <td>8666</td>\n",
       "      <td>6788.0</td>\n",
       "      <td>7069.0</td>\n",
       "    </tr>\n",
       "    <tr>\n",
       "      <th>3</th>\n",
       "      <td>AT1G01020.3</td>\n",
       "      <td>-</td>\n",
       "      <td>8443.0</td>\n",
       "      <td>8464.0</td>\n",
       "      <td>6915</td>\n",
       "      <td>8442</td>\n",
       "      <td>6788.0</td>\n",
       "      <td>6914.0</td>\n",
       "    </tr>\n",
       "    <tr>\n",
       "      <th>4</th>\n",
       "      <td>AT1G01020.4</td>\n",
       "      <td>-</td>\n",
       "      <td>8594.0</td>\n",
       "      <td>9130.0</td>\n",
       "      <td>6915</td>\n",
       "      <td>8442</td>\n",
       "      <td>6788.0</td>\n",
       "      <td>6914.0</td>\n",
       "    </tr>\n",
       "    <tr>\n",
       "      <th>...</th>\n",
       "      <td>...</td>\n",
       "      <td>...</td>\n",
       "      <td>...</td>\n",
       "      <td>...</td>\n",
       "      <td>...</td>\n",
       "      <td>...</td>\n",
       "      <td>...</td>\n",
       "      <td>...</td>\n",
       "    </tr>\n",
       "    <tr>\n",
       "      <th>48354</th>\n",
       "      <td>ATMG01350.1</td>\n",
       "      <td>+</td>\n",
       "      <td>NaN</td>\n",
       "      <td>NaN</td>\n",
       "      <td>346757</td>\n",
       "      <td>347194</td>\n",
       "      <td>NaN</td>\n",
       "      <td>NaN</td>\n",
       "    </tr>\n",
       "    <tr>\n",
       "      <th>48355</th>\n",
       "      <td>ATMG01360.1</td>\n",
       "      <td>-</td>\n",
       "      <td>NaN</td>\n",
       "      <td>NaN</td>\n",
       "      <td>349830</td>\n",
       "      <td>351413</td>\n",
       "      <td>NaN</td>\n",
       "      <td>NaN</td>\n",
       "    </tr>\n",
       "    <tr>\n",
       "      <th>48356</th>\n",
       "      <td>ATMG01370.1</td>\n",
       "      <td>-</td>\n",
       "      <td>NaN</td>\n",
       "      <td>NaN</td>\n",
       "      <td>360717</td>\n",
       "      <td>361052</td>\n",
       "      <td>NaN</td>\n",
       "      <td>NaN</td>\n",
       "    </tr>\n",
       "    <tr>\n",
       "      <th>48357</th>\n",
       "      <td>ATMG01400.1</td>\n",
       "      <td>+</td>\n",
       "      <td>NaN</td>\n",
       "      <td>NaN</td>\n",
       "      <td>363725</td>\n",
       "      <td>364042</td>\n",
       "      <td>NaN</td>\n",
       "      <td>NaN</td>\n",
       "    </tr>\n",
       "    <tr>\n",
       "      <th>48358</th>\n",
       "      <td>ATMG01410.1</td>\n",
       "      <td>-</td>\n",
       "      <td>NaN</td>\n",
       "      <td>NaN</td>\n",
       "      <td>366086</td>\n",
       "      <td>366700</td>\n",
       "      <td>NaN</td>\n",
       "      <td>NaN</td>\n",
       "    </tr>\n",
       "  </tbody>\n",
       "</table>\n",
       "<p>48359 rows × 8 columns</p>\n",
       "</div>"
      ],
      "text/plain": [
       "              Name Orientation  Start_5UTR  Stop_5UTR  Start_Protein  \\\n",
       "0      AT1G01010.1           +      3631.0     3759.0           3760   \n",
       "1      AT1G01020.1           -      8667.0     9130.0           6915   \n",
       "2      AT1G01020.2           -      8667.0     8737.0           7315   \n",
       "3      AT1G01020.3           -      8443.0     8464.0           6915   \n",
       "4      AT1G01020.4           -      8594.0     9130.0           6915   \n",
       "...            ...         ...         ...        ...            ...   \n",
       "48354  ATMG01350.1           +         NaN        NaN         346757   \n",
       "48355  ATMG01360.1           -         NaN        NaN         349830   \n",
       "48356  ATMG01370.1           -         NaN        NaN         360717   \n",
       "48357  ATMG01400.1           +         NaN        NaN         363725   \n",
       "48358  ATMG01410.1           -         NaN        NaN         366086   \n",
       "\n",
       "       Stop_Protein  Start_3UTR  Stop_3UTR  \n",
       "0              5630      5631.0     5899.0  \n",
       "1              8666      6788.0     6914.0  \n",
       "2              8666      6788.0     7069.0  \n",
       "3              8442      6788.0     6914.0  \n",
       "4              8442      6788.0     6914.0  \n",
       "...             ...         ...        ...  \n",
       "48354        347194         NaN        NaN  \n",
       "48355        351413         NaN        NaN  \n",
       "48356        361052         NaN        NaN  \n",
       "48357        364042         NaN        NaN  \n",
       "48358        366700         NaN        NaN  \n",
       "\n",
       "[48359 rows x 8 columns]"
      ]
     },
     "execution_count": 7,
     "metadata": {},
     "output_type": "execute_result"
    }
   ],
   "source": [
    "genes_table = pd.read_csv('../data/processed/Ara11/Ara11_genes_gff.csv', index_col=0)\n",
    "genes_table"
   ]
  },
  {
   "cell_type": "markdown",
   "metadata": {},
   "source": [
    "## Premature-Stop Attributes"
   ]
  },
  {
   "cell_type": "markdown",
   "metadata": {},
   "source": [
    "## Control with Synonymous and Non-Synonymous Mutations"
   ]
  }
 ],
 "metadata": {
  "interpreter": {
   "hash": "ac1bc1fee816c861628f5010bc668025382ee6a8fa6cf0a3da56c2b4dd6f469c"
  },
  "kernelspec": {
   "display_name": "Python 3.10.2 ('Premature_Stop_Codons')",
   "language": "python",
   "name": "python3"
  },
  "language_info": {
   "codemirror_mode": {
    "name": "ipython",
    "version": 3
   },
   "file_extension": ".py",
   "mimetype": "text/x-python",
   "name": "python",
   "nbconvert_exporter": "python",
   "pygments_lexer": "ipython3",
   "version": "3.10.2"
  },
  "orig_nbformat": 4
 },
 "nbformat": 4,
 "nbformat_minor": 2
}
