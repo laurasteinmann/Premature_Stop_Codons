{
 "cells": [
  {
   "cell_type": "markdown",
   "metadata": {},
   "source": [
    "# Project Premature Stop Codons in *Arabidopsis thaliana*\n",
    "\n"
   ]
  },
  {
   "cell_type": "markdown",
   "metadata": {},
   "source": [
    "To manage live in an ecosystem organisms need to adapt to the specific abiotic and biotic factors arount them. Especially for plants adaptation is important because they can not change their habitat during their lifespan. Adaptation can happen through multiple changes on cell, tissue and organism level, but the fundamental process that drive adaptation on the smallest scale are mutations. There are three categories of mutations, which have different effects on the process of transkription of DNA to RNA and the translation from the RNA to the protein. The first category of mutations are synonymous mutations. Synonymous mutations are point mutations in the DNA, which lead to a change in the  sequence of basepairs. **TODO ongoing introduction**"
   ]
  },
  {
   "cell_type": "markdown",
   "metadata": {},
   "source": [
    "## Setup Project structure"
   ]
  },
  {
   "cell_type": "markdown",
   "metadata": {},
   "source": [
    "## Ara11-Annotation"
   ]
  },
  {
   "cell_type": "markdown",
   "metadata": {},
   "source": [
    "### Analysing positions of gene locations "
   ]
  },
  {
   "cell_type": "markdown",
   "metadata": {},
   "source": [
    "For determining length or position of genes or RNAs we need information about the start of the 5'UTR, the start of the coding sequence, the stop of the coding sequence, the stop of the 3' UTR and the orientation of the gene on the DNA strand for each single gene in *A. thaliana*. For getting a detailed look at the different genes we actually look at the start  and stop of the protein as well as the UTR regions. This leads to multiple entries for different splice variants for one gene. Different splicing variants result in different protein start and stop and can also result in different 5'UTR and 3'UTR regions depending on the annotation in the Araport 11 file. We store all genes, which don't have a protein as a result for example miRNAs in a different table. For them only the information of where the gene starts and ends is available. We also generate a table for transposons, which contains the start and stop known for these transposons."
   ]
  },
  {
   "cell_type": "code",
   "execution_count": 1,
   "metadata": {},
   "outputs": [],
   "source": [
    "%run ../scripts/Ara11_Annotation.py"
   ]
  },
  {
   "cell_type": "code",
   "execution_count": 2,
   "metadata": {},
   "outputs": [
    {
     "data": {
      "text/html": [
       "<div>\n",
       "<style scoped>\n",
       "    .dataframe tbody tr th:only-of-type {\n",
       "        vertical-align: middle;\n",
       "    }\n",
       "\n",
       "    .dataframe tbody tr th {\n",
       "        vertical-align: top;\n",
       "    }\n",
       "\n",
       "    .dataframe thead th {\n",
       "        text-align: right;\n",
       "    }\n",
       "</style>\n",
       "<table border=\"1\" class=\"dataframe\">\n",
       "  <thead>\n",
       "    <tr style=\"text-align: right;\">\n",
       "      <th></th>\n",
       "      <th>Name</th>\n",
       "      <th>Orientation</th>\n",
       "      <th>Start_5UTR</th>\n",
       "      <th>Stop_5UTR</th>\n",
       "      <th>Start_Protein</th>\n",
       "      <th>Stop_Protein</th>\n",
       "      <th>Start_3UTR</th>\n",
       "      <th>Stop_3UTR</th>\n",
       "    </tr>\n",
       "  </thead>\n",
       "  <tbody>\n",
       "    <tr>\n",
       "      <th>0</th>\n",
       "      <td>AT1G01010.1</td>\n",
       "      <td>+</td>\n",
       "      <td>3631</td>\n",
       "      <td>3759</td>\n",
       "      <td>3760</td>\n",
       "      <td>5630</td>\n",
       "      <td>5631</td>\n",
       "      <td>5899</td>\n",
       "    </tr>\n",
       "    <tr>\n",
       "      <th>1</th>\n",
       "      <td>AT1G01020.1</td>\n",
       "      <td>-</td>\n",
       "      <td>8667</td>\n",
       "      <td>9130</td>\n",
       "      <td>6915</td>\n",
       "      <td>8666</td>\n",
       "      <td>6788</td>\n",
       "      <td>6914</td>\n",
       "    </tr>\n",
       "    <tr>\n",
       "      <th>2</th>\n",
       "      <td>AT1G01020.2</td>\n",
       "      <td>-</td>\n",
       "      <td>8667</td>\n",
       "      <td>8737</td>\n",
       "      <td>7315</td>\n",
       "      <td>8666</td>\n",
       "      <td>6788</td>\n",
       "      <td>7069</td>\n",
       "    </tr>\n",
       "    <tr>\n",
       "      <th>3</th>\n",
       "      <td>AT1G01020.3</td>\n",
       "      <td>-</td>\n",
       "      <td>8443</td>\n",
       "      <td>8464</td>\n",
       "      <td>6915</td>\n",
       "      <td>8442</td>\n",
       "      <td>6788</td>\n",
       "      <td>6914</td>\n",
       "    </tr>\n",
       "    <tr>\n",
       "      <th>4</th>\n",
       "      <td>AT1G01020.4</td>\n",
       "      <td>-</td>\n",
       "      <td>8594</td>\n",
       "      <td>9130</td>\n",
       "      <td>6915</td>\n",
       "      <td>8442</td>\n",
       "      <td>6788</td>\n",
       "      <td>6914</td>\n",
       "    </tr>\n",
       "    <tr>\n",
       "      <th>...</th>\n",
       "      <td>...</td>\n",
       "      <td>...</td>\n",
       "      <td>...</td>\n",
       "      <td>...</td>\n",
       "      <td>...</td>\n",
       "      <td>...</td>\n",
       "      <td>...</td>\n",
       "      <td>...</td>\n",
       "    </tr>\n",
       "    <tr>\n",
       "      <th>48354</th>\n",
       "      <td>ATMG01350.1</td>\n",
       "      <td>+</td>\n",
       "      <td>NaN</td>\n",
       "      <td>NaN</td>\n",
       "      <td>346757</td>\n",
       "      <td>347194</td>\n",
       "      <td>NaN</td>\n",
       "      <td>NaN</td>\n",
       "    </tr>\n",
       "    <tr>\n",
       "      <th>48355</th>\n",
       "      <td>ATMG01360.1</td>\n",
       "      <td>-</td>\n",
       "      <td>NaN</td>\n",
       "      <td>NaN</td>\n",
       "      <td>349830</td>\n",
       "      <td>351413</td>\n",
       "      <td>NaN</td>\n",
       "      <td>NaN</td>\n",
       "    </tr>\n",
       "    <tr>\n",
       "      <th>48356</th>\n",
       "      <td>ATMG01370.1</td>\n",
       "      <td>-</td>\n",
       "      <td>NaN</td>\n",
       "      <td>NaN</td>\n",
       "      <td>360717</td>\n",
       "      <td>361052</td>\n",
       "      <td>NaN</td>\n",
       "      <td>NaN</td>\n",
       "    </tr>\n",
       "    <tr>\n",
       "      <th>48357</th>\n",
       "      <td>ATMG01400.1</td>\n",
       "      <td>+</td>\n",
       "      <td>NaN</td>\n",
       "      <td>NaN</td>\n",
       "      <td>363725</td>\n",
       "      <td>364042</td>\n",
       "      <td>NaN</td>\n",
       "      <td>NaN</td>\n",
       "    </tr>\n",
       "    <tr>\n",
       "      <th>48358</th>\n",
       "      <td>ATMG01410.1</td>\n",
       "      <td>-</td>\n",
       "      <td>NaN</td>\n",
       "      <td>NaN</td>\n",
       "      <td>366086</td>\n",
       "      <td>366700</td>\n",
       "      <td>NaN</td>\n",
       "      <td>NaN</td>\n",
       "    </tr>\n",
       "  </tbody>\n",
       "</table>\n",
       "<p>48359 rows × 8 columns</p>\n",
       "</div>"
      ],
      "text/plain": [
       "              Name Orientation Start_5UTR Stop_5UTR Start_Protein  \\\n",
       "0      AT1G01010.1           +       3631      3759          3760   \n",
       "1      AT1G01020.1           -       8667      9130          6915   \n",
       "2      AT1G01020.2           -       8667      8737          7315   \n",
       "3      AT1G01020.3           -       8443      8464          6915   \n",
       "4      AT1G01020.4           -       8594      9130          6915   \n",
       "...            ...         ...        ...       ...           ...   \n",
       "48354  ATMG01350.1           +        NaN       NaN        346757   \n",
       "48355  ATMG01360.1           -        NaN       NaN        349830   \n",
       "48356  ATMG01370.1           -        NaN       NaN        360717   \n",
       "48357  ATMG01400.1           +        NaN       NaN        363725   \n",
       "48358  ATMG01410.1           -        NaN       NaN        366086   \n",
       "\n",
       "      Stop_Protein Start_3UTR Stop_3UTR  \n",
       "0             5630       5631      5899  \n",
       "1             8666       6788      6914  \n",
       "2             8666       6788      7069  \n",
       "3             8442       6788      6914  \n",
       "4             8442       6788      6914  \n",
       "...            ...        ...       ...  \n",
       "48354       347194        NaN       NaN  \n",
       "48355       351413        NaN       NaN  \n",
       "48356       361052        NaN       NaN  \n",
       "48357       364042        NaN       NaN  \n",
       "48358       366700        NaN       NaN  \n",
       "\n",
       "[48359 rows x 8 columns]"
      ]
     },
     "execution_count": 2,
     "metadata": {},
     "output_type": "execute_result"
    }
   ],
   "source": [
    "ara11_genes"
   ]
  },
  {
   "cell_type": "markdown",
   "metadata": {},
   "source": [
    "## Premature-Stop Attributes"
   ]
  },
  {
   "cell_type": "markdown",
   "metadata": {},
   "source": [
    "### Approach 1: Geneexpression Differences"
   ]
  },
  {
   "cell_type": "markdown",
   "metadata": {},
   "source": [
    "For the further analysis we need to have a functional dataset where we are sure that the premature stop codons have actual impact on the plant. For that we thought, that we compare gene expression patterns between the wildtype accessions and the ko-mutant accessions (containg the premature stop codons) and take all premature stop codons, which have a significant difference in these two groups. For that we use RNA-Seq data, which is also available from the 1001 Genomes Project and contains transcriptoms of 727 *A. thaliana* accessions. "
   ]
  },
  {
   "cell_type": "markdown",
   "metadata": {},
   "source": [
    "#### Preprocessing"
   ]
  },
  {
   "cell_type": "markdown",
   "metadata": {},
   "source": [
    "To make the raw data possible to analyze with the Python programming language, the vcf-format is processed to a standard csv-file format. This is done in the R script Preprocessing.r"
   ]
  },
  {
   "cell_type": "markdown",
   "metadata": {},
   "source": [
    "For a comfortable further analysis we need to simplify the gt-section in a more numerical format as well as filtering the gt-section and the expression dataset for their overlap. The RNA-Seq dataset has 727 different accessions of *A.thaliana*, which have 665 common accessions, where we have RNA-seq and genomic information."
   ]
  },
  {
   "cell_type": "code",
   "execution_count": 4,
   "metadata": {},
   "outputs": [],
   "source": [
    "%run ../scripts/Preprocessing_Genexpression.py"
   ]
  },
  {
   "cell_type": "markdown",
   "metadata": {},
   "source": [
    "#### Confidential Dataset "
   ]
  },
  {
   "cell_type": "markdown",
   "metadata": {},
   "source": [
    "We try to categorize the premature stop codons in 3 different classe: unsignificant gene expression change, significant decrease in gene expression and significant increase in gene expression.If a Premature Stop Codon is introduced in an ecotype of *A.thaliana* the gene expression should be significantly reduced. We calculate therefore the number of accessions with and without mutation (WT and ko-Mutant) and their mean."
   ]
  },
  {
   "cell_type": "markdown",
   "metadata": {},
   "source": [
    "Important facts (problems) about the analysis: The first problem we face for our analysis is the different annotations used for *A.thaliana*. Araport11 is the most recent annotation of *A. thaliana*, which detects lots of new genes in previously believed non-coding regions. But unfortunately the RNA-Seq data of *A. thaliana* was mapped to the older version which is called TAIR10. Our approach will be based on the analysis of the genomic premature stop codons mapped (annotated) to the Araport11 annotation and selecting just these premature stop codons which are included in our RNA-Seq dataset (annotated with TAIR10). We calculate the number of wildtype and ko-mutant accessions for each premature stop codon and also store the names of these accessions. Then we calculate their mean of expression and the standard deviation. Between the steps we filter out all premature stop codons, which either have no wildtype accession or no ko-mutant accession."
   ]
  },
  {
   "cell_type": "code",
   "execution_count": 6,
   "metadata": {},
   "outputs": [
    {
     "name": "stdout",
     "output_type": "stream",
     "text": [
      "Full List of Premature Stop Codons Ara11 contain:  29029\n",
      "Filtered List of Premature Stop Codons after removing unknown genes of Ara11:  17046\n"
     ]
    },
    {
     "ename": "KeyboardInterrupt",
     "evalue": "",
     "output_type": "error",
     "traceback": [
      "\u001b[0;31m---------------------------------------------------------------------------\u001b[0m",
      "\u001b[0;31mKeyboardInterrupt\u001b[0m                         Traceback (most recent call last)",
      "File \u001b[0;32m~/Repositories/Premature_Stop_Codons/scripts/Geneexpression_Differences.py:122\u001b[0m, in \u001b[0;36m<module>\u001b[0;34m\u001b[0m\n\u001b[1;32m    <a href='file:///~/Repositories/Premature_Stop_Codons/scripts/Geneexpression_Differences.py?line=119'>120</a>\u001b[0m stop_table \u001b[39m=\u001b[39m fill_num(stop_list_filtered, gt_filtered, \u001b[39m\"\u001b[39m\u001b[39mWT_num\u001b[39m\u001b[39m\"\u001b[39m, \u001b[39m0\u001b[39m)\n\u001b[1;32m    <a href='file:///~/Repositories/Premature_Stop_Codons/scripts/Geneexpression_Differences.py?line=120'>121</a>\u001b[0m stop_table, gt_filtered \u001b[39m=\u001b[39m filter_num(stop_table, gt_filtered, \u001b[39m'\u001b[39m\u001b[39mWT_num\u001b[39m\u001b[39m'\u001b[39m)\n\u001b[0;32m--> <a href='file:///~/Repositories/Premature_Stop_Codons/scripts/Geneexpression_Differences.py?line=121'>122</a>\u001b[0m stop_table \u001b[39m=\u001b[39m fill_stat(stop_table, expression_overlap, gt_filtered, \u001b[39m'\u001b[39;49m\u001b[39mWT_mean\u001b[39;49m\u001b[39m'\u001b[39;49m, \u001b[39m'\u001b[39;49m\u001b[39mWT_std\u001b[39;49m\u001b[39m'\u001b[39;49m, \u001b[39m0\u001b[39;49m)\n\u001b[1;32m    <a href='file:///~/Repositories/Premature_Stop_Codons/scripts/Geneexpression_Differences.py?line=122'>123</a>\u001b[0m stop_table \u001b[39m=\u001b[39m fill_acc(stop_table, gt_filtered, \u001b[39m'\u001b[39m\u001b[39mWT_acc\u001b[39m\u001b[39m'\u001b[39m, \u001b[39m0\u001b[39m)\n\u001b[1;32m    <a href='file:///~/Repositories/Premature_Stop_Codons/scripts/Geneexpression_Differences.py?line=123'>124</a>\u001b[0m stop_table \u001b[39m=\u001b[39m fill_num(stop_table, gt_filtered, \u001b[39m\"\u001b[39m\u001b[39mKO_num\u001b[39m\u001b[39m\"\u001b[39m, \u001b[39m1\u001b[39m)\n",
      "File \u001b[0;32m~/Repositories/Premature_Stop_Codons/scripts/Geneexpression_Differences.py:59\u001b[0m, in \u001b[0;36mfill_stat\u001b[0;34m(stop_list, expression, gt, type_mean, type_std, type_num)\u001b[0m\n\u001b[1;32m     <a href='file:///~/Repositories/Premature_Stop_Codons/scripts/Geneexpression_Differences.py?line=56'>57</a>\u001b[0m list_std \u001b[39m=\u001b[39m []\n\u001b[1;32m     <a href='file:///~/Repositories/Premature_Stop_Codons/scripts/Geneexpression_Differences.py?line=57'>58</a>\u001b[0m \u001b[39mfor\u001b[39;00m stop \u001b[39min\u001b[39;00m \u001b[39mrange\u001b[39m(stop_list\u001b[39m.\u001b[39mshape[\u001b[39m0\u001b[39m]):\n\u001b[0;32m---> <a href='file:///~/Repositories/Premature_Stop_Codons/scripts/Geneexpression_Differences.py?line=58'>59</a>\u001b[0m     type_df \u001b[39m=\u001b[39m gt[gt\u001b[39m.\u001b[39;49miloc[:, stop] \u001b[39m==\u001b[39;49m type_num]\n\u001b[1;32m     <a href='file:///~/Repositories/Premature_Stop_Codons/scripts/Geneexpression_Differences.py?line=59'>60</a>\u001b[0m     stop_att \u001b[39m=\u001b[39m stop_list\u001b[39m.\u001b[39miloc[stop, ]\n\u001b[1;32m     <a href='file:///~/Repositories/Premature_Stop_Codons/scripts/Geneexpression_Differences.py?line=60'>61</a>\u001b[0m     gene \u001b[39m=\u001b[39m stop_att\u001b[39m.\u001b[39mGene\n",
      "File \u001b[0;32m~/Anaconda3/envs/Premature_Stop_Codons/lib/python3.10/site-packages/pandas/core/frame.py:3496\u001b[0m, in \u001b[0;36mDataFrame.__getitem__\u001b[0;34m(self, key)\u001b[0m\n\u001b[1;32m   <a href='file:///~/Anaconda3/envs/Premature_Stop_Codons/lib/python3.10/site-packages/pandas/core/frame.py?line=3493'>3494</a>\u001b[0m \u001b[39m# Do we have a (boolean) 1d indexer?\u001b[39;00m\n\u001b[1;32m   <a href='file:///~/Anaconda3/envs/Premature_Stop_Codons/lib/python3.10/site-packages/pandas/core/frame.py?line=3494'>3495</a>\u001b[0m \u001b[39mif\u001b[39;00m com\u001b[39m.\u001b[39mis_bool_indexer(key):\n\u001b[0;32m-> <a href='file:///~/Anaconda3/envs/Premature_Stop_Codons/lib/python3.10/site-packages/pandas/core/frame.py?line=3495'>3496</a>\u001b[0m     \u001b[39mreturn\u001b[39;00m \u001b[39mself\u001b[39;49m\u001b[39m.\u001b[39;49m_getitem_bool_array(key)\n\u001b[1;32m   <a href='file:///~/Anaconda3/envs/Premature_Stop_Codons/lib/python3.10/site-packages/pandas/core/frame.py?line=3497'>3498</a>\u001b[0m \u001b[39m# We are left with two options: a single key, and a collection of keys,\u001b[39;00m\n\u001b[1;32m   <a href='file:///~/Anaconda3/envs/Premature_Stop_Codons/lib/python3.10/site-packages/pandas/core/frame.py?line=3498'>3499</a>\u001b[0m \u001b[39m# We interpret tuples as collections only for non-MultiIndex\u001b[39;00m\n\u001b[1;32m   <a href='file:///~/Anaconda3/envs/Premature_Stop_Codons/lib/python3.10/site-packages/pandas/core/frame.py?line=3499'>3500</a>\u001b[0m is_single_key \u001b[39m=\u001b[39m \u001b[39misinstance\u001b[39m(key, \u001b[39mtuple\u001b[39m) \u001b[39mor\u001b[39;00m \u001b[39mnot\u001b[39;00m is_list_like(key)\n",
      "File \u001b[0;32m~/Anaconda3/envs/Premature_Stop_Codons/lib/python3.10/site-packages/pandas/core/frame.py:3551\u001b[0m, in \u001b[0;36mDataFrame._getitem_bool_array\u001b[0;34m(self, key)\u001b[0m\n\u001b[1;32m   <a href='file:///~/Anaconda3/envs/Premature_Stop_Codons/lib/python3.10/site-packages/pandas/core/frame.py?line=3548'>3549</a>\u001b[0m key \u001b[39m=\u001b[39m check_bool_indexer(\u001b[39mself\u001b[39m\u001b[39m.\u001b[39mindex, key)\n\u001b[1;32m   <a href='file:///~/Anaconda3/envs/Premature_Stop_Codons/lib/python3.10/site-packages/pandas/core/frame.py?line=3549'>3550</a>\u001b[0m indexer \u001b[39m=\u001b[39m key\u001b[39m.\u001b[39mnonzero()[\u001b[39m0\u001b[39m]\n\u001b[0;32m-> <a href='file:///~/Anaconda3/envs/Premature_Stop_Codons/lib/python3.10/site-packages/pandas/core/frame.py?line=3550'>3551</a>\u001b[0m \u001b[39mreturn\u001b[39;00m \u001b[39mself\u001b[39;49m\u001b[39m.\u001b[39;49m_take_with_is_copy(indexer, axis\u001b[39m=\u001b[39;49m\u001b[39m0\u001b[39;49m)\n",
      "File \u001b[0;32m~/Anaconda3/envs/Premature_Stop_Codons/lib/python3.10/site-packages/pandas/core/generic.py:3728\u001b[0m, in \u001b[0;36mNDFrame._take_with_is_copy\u001b[0;34m(self, indices, axis)\u001b[0m\n\u001b[1;32m   <a href='file:///~/Anaconda3/envs/Premature_Stop_Codons/lib/python3.10/site-packages/pandas/core/generic.py?line=3719'>3720</a>\u001b[0m \u001b[39mdef\u001b[39;00m \u001b[39m_take_with_is_copy\u001b[39m(\u001b[39mself\u001b[39m: NDFrameT, indices, axis\u001b[39m=\u001b[39m\u001b[39m0\u001b[39m) \u001b[39m-\u001b[39m\u001b[39m>\u001b[39m NDFrameT:\n\u001b[1;32m   <a href='file:///~/Anaconda3/envs/Premature_Stop_Codons/lib/python3.10/site-packages/pandas/core/generic.py?line=3720'>3721</a>\u001b[0m     \u001b[39m\"\"\"\u001b[39;00m\n\u001b[1;32m   <a href='file:///~/Anaconda3/envs/Premature_Stop_Codons/lib/python3.10/site-packages/pandas/core/generic.py?line=3721'>3722</a>\u001b[0m \u001b[39m    Internal version of the `take` method that sets the `_is_copy`\u001b[39;00m\n\u001b[1;32m   <a href='file:///~/Anaconda3/envs/Premature_Stop_Codons/lib/python3.10/site-packages/pandas/core/generic.py?line=3722'>3723</a>\u001b[0m \u001b[39m    attribute to keep track of the parent dataframe (using in indexing\u001b[39;00m\n\u001b[0;32m   (...)\u001b[0m\n\u001b[1;32m   <a href='file:///~/Anaconda3/envs/Premature_Stop_Codons/lib/python3.10/site-packages/pandas/core/generic.py?line=3725'>3726</a>\u001b[0m \u001b[39m    See the docstring of `take` for full explanation of the parameters.\u001b[39;00m\n\u001b[1;32m   <a href='file:///~/Anaconda3/envs/Premature_Stop_Codons/lib/python3.10/site-packages/pandas/core/generic.py?line=3726'>3727</a>\u001b[0m \u001b[39m    \"\"\"\u001b[39;00m\n\u001b[0;32m-> <a href='file:///~/Anaconda3/envs/Premature_Stop_Codons/lib/python3.10/site-packages/pandas/core/generic.py?line=3727'>3728</a>\u001b[0m     result \u001b[39m=\u001b[39m \u001b[39mself\u001b[39;49m\u001b[39m.\u001b[39;49mtake(indices\u001b[39m=\u001b[39;49mindices, axis\u001b[39m=\u001b[39;49maxis)\n\u001b[1;32m   <a href='file:///~/Anaconda3/envs/Premature_Stop_Codons/lib/python3.10/site-packages/pandas/core/generic.py?line=3728'>3729</a>\u001b[0m     \u001b[39m# Maybe set copy if we didn't actually change the index.\u001b[39;00m\n\u001b[1;32m   <a href='file:///~/Anaconda3/envs/Premature_Stop_Codons/lib/python3.10/site-packages/pandas/core/generic.py?line=3729'>3730</a>\u001b[0m     \u001b[39mif\u001b[39;00m \u001b[39mnot\u001b[39;00m result\u001b[39m.\u001b[39m_get_axis(axis)\u001b[39m.\u001b[39mequals(\u001b[39mself\u001b[39m\u001b[39m.\u001b[39m_get_axis(axis)):\n",
      "File \u001b[0;32m~/Anaconda3/envs/Premature_Stop_Codons/lib/python3.10/site-packages/pandas/core/generic.py:3715\u001b[0m, in \u001b[0;36mNDFrame.take\u001b[0;34m(self, indices, axis, is_copy, **kwargs)\u001b[0m\n\u001b[1;32m   <a href='file:///~/Anaconda3/envs/Premature_Stop_Codons/lib/python3.10/site-packages/pandas/core/generic.py?line=3710'>3711</a>\u001b[0m nv\u001b[39m.\u001b[39mvalidate_take((), kwargs)\n\u001b[1;32m   <a href='file:///~/Anaconda3/envs/Premature_Stop_Codons/lib/python3.10/site-packages/pandas/core/generic.py?line=3712'>3713</a>\u001b[0m \u001b[39mself\u001b[39m\u001b[39m.\u001b[39m_consolidate_inplace()\n\u001b[0;32m-> <a href='file:///~/Anaconda3/envs/Premature_Stop_Codons/lib/python3.10/site-packages/pandas/core/generic.py?line=3714'>3715</a>\u001b[0m new_data \u001b[39m=\u001b[39m \u001b[39mself\u001b[39;49m\u001b[39m.\u001b[39;49m_mgr\u001b[39m.\u001b[39;49mtake(\n\u001b[1;32m   <a href='file:///~/Anaconda3/envs/Premature_Stop_Codons/lib/python3.10/site-packages/pandas/core/generic.py?line=3715'>3716</a>\u001b[0m     indices, axis\u001b[39m=\u001b[39;49m\u001b[39mself\u001b[39;49m\u001b[39m.\u001b[39;49m_get_block_manager_axis(axis), verify\u001b[39m=\u001b[39;49m\u001b[39mTrue\u001b[39;49;00m\n\u001b[1;32m   <a href='file:///~/Anaconda3/envs/Premature_Stop_Codons/lib/python3.10/site-packages/pandas/core/generic.py?line=3716'>3717</a>\u001b[0m )\n\u001b[1;32m   <a href='file:///~/Anaconda3/envs/Premature_Stop_Codons/lib/python3.10/site-packages/pandas/core/generic.py?line=3717'>3718</a>\u001b[0m \u001b[39mreturn\u001b[39;00m \u001b[39mself\u001b[39m\u001b[39m.\u001b[39m_constructor(new_data)\u001b[39m.\u001b[39m__finalize__(\u001b[39mself\u001b[39m, method\u001b[39m=\u001b[39m\u001b[39m\"\u001b[39m\u001b[39mtake\u001b[39m\u001b[39m\"\u001b[39m)\n",
      "File \u001b[0;32m~/Anaconda3/envs/Premature_Stop_Codons/lib/python3.10/site-packages/pandas/core/internals/managers.py:900\u001b[0m, in \u001b[0;36mBaseBlockManager.take\u001b[0;34m(self, indexer, axis, verify)\u001b[0m\n\u001b[1;32m    <a href='file:///~/Anaconda3/envs/Premature_Stop_Codons/lib/python3.10/site-packages/pandas/core/internals/managers.py?line=896'>897</a>\u001b[0m indexer \u001b[39m=\u001b[39m maybe_convert_indices(indexer, n, verify\u001b[39m=\u001b[39mverify)\n\u001b[1;32m    <a href='file:///~/Anaconda3/envs/Premature_Stop_Codons/lib/python3.10/site-packages/pandas/core/internals/managers.py?line=898'>899</a>\u001b[0m new_labels \u001b[39m=\u001b[39m \u001b[39mself\u001b[39m\u001b[39m.\u001b[39maxes[axis]\u001b[39m.\u001b[39mtake(indexer)\n\u001b[0;32m--> <a href='file:///~/Anaconda3/envs/Premature_Stop_Codons/lib/python3.10/site-packages/pandas/core/internals/managers.py?line=899'>900</a>\u001b[0m \u001b[39mreturn\u001b[39;00m \u001b[39mself\u001b[39;49m\u001b[39m.\u001b[39;49mreindex_indexer(\n\u001b[1;32m    <a href='file:///~/Anaconda3/envs/Premature_Stop_Codons/lib/python3.10/site-packages/pandas/core/internals/managers.py?line=900'>901</a>\u001b[0m     new_axis\u001b[39m=\u001b[39;49mnew_labels,\n\u001b[1;32m    <a href='file:///~/Anaconda3/envs/Premature_Stop_Codons/lib/python3.10/site-packages/pandas/core/internals/managers.py?line=901'>902</a>\u001b[0m     indexer\u001b[39m=\u001b[39;49mindexer,\n\u001b[1;32m    <a href='file:///~/Anaconda3/envs/Premature_Stop_Codons/lib/python3.10/site-packages/pandas/core/internals/managers.py?line=902'>903</a>\u001b[0m     axis\u001b[39m=\u001b[39;49maxis,\n\u001b[1;32m    <a href='file:///~/Anaconda3/envs/Premature_Stop_Codons/lib/python3.10/site-packages/pandas/core/internals/managers.py?line=903'>904</a>\u001b[0m     allow_dups\u001b[39m=\u001b[39;49m\u001b[39mTrue\u001b[39;49;00m,\n\u001b[1;32m    <a href='file:///~/Anaconda3/envs/Premature_Stop_Codons/lib/python3.10/site-packages/pandas/core/internals/managers.py?line=904'>905</a>\u001b[0m     consolidate\u001b[39m=\u001b[39;49m\u001b[39mFalse\u001b[39;49;00m,\n\u001b[1;32m    <a href='file:///~/Anaconda3/envs/Premature_Stop_Codons/lib/python3.10/site-packages/pandas/core/internals/managers.py?line=905'>906</a>\u001b[0m )\n",
      "File \u001b[0;32m~/Anaconda3/envs/Premature_Stop_Codons/lib/python3.10/site-packages/pandas/core/internals/managers.py:692\u001b[0m, in \u001b[0;36mBaseBlockManager.reindex_indexer\u001b[0;34m(self, new_axis, indexer, axis, fill_value, allow_dups, copy, consolidate, only_slice, use_na_proxy)\u001b[0m\n\u001b[1;32m    <a href='file:///~/Anaconda3/envs/Premature_Stop_Codons/lib/python3.10/site-packages/pandas/core/internals/managers.py?line=684'>685</a>\u001b[0m     new_blocks \u001b[39m=\u001b[39m \u001b[39mself\u001b[39m\u001b[39m.\u001b[39m_slice_take_blocks_ax0(\n\u001b[1;32m    <a href='file:///~/Anaconda3/envs/Premature_Stop_Codons/lib/python3.10/site-packages/pandas/core/internals/managers.py?line=685'>686</a>\u001b[0m         indexer,\n\u001b[1;32m    <a href='file:///~/Anaconda3/envs/Premature_Stop_Codons/lib/python3.10/site-packages/pandas/core/internals/managers.py?line=686'>687</a>\u001b[0m         fill_value\u001b[39m=\u001b[39mfill_value,\n\u001b[1;32m    <a href='file:///~/Anaconda3/envs/Premature_Stop_Codons/lib/python3.10/site-packages/pandas/core/internals/managers.py?line=687'>688</a>\u001b[0m         only_slice\u001b[39m=\u001b[39monly_slice,\n\u001b[1;32m    <a href='file:///~/Anaconda3/envs/Premature_Stop_Codons/lib/python3.10/site-packages/pandas/core/internals/managers.py?line=688'>689</a>\u001b[0m         use_na_proxy\u001b[39m=\u001b[39muse_na_proxy,\n\u001b[1;32m    <a href='file:///~/Anaconda3/envs/Premature_Stop_Codons/lib/python3.10/site-packages/pandas/core/internals/managers.py?line=689'>690</a>\u001b[0m     )\n\u001b[1;32m    <a href='file:///~/Anaconda3/envs/Premature_Stop_Codons/lib/python3.10/site-packages/pandas/core/internals/managers.py?line=690'>691</a>\u001b[0m \u001b[39melse\u001b[39;00m:\n\u001b[0;32m--> <a href='file:///~/Anaconda3/envs/Premature_Stop_Codons/lib/python3.10/site-packages/pandas/core/internals/managers.py?line=691'>692</a>\u001b[0m     new_blocks \u001b[39m=\u001b[39m [\n\u001b[1;32m    <a href='file:///~/Anaconda3/envs/Premature_Stop_Codons/lib/python3.10/site-packages/pandas/core/internals/managers.py?line=692'>693</a>\u001b[0m         blk\u001b[39m.\u001b[39mtake_nd(\n\u001b[1;32m    <a href='file:///~/Anaconda3/envs/Premature_Stop_Codons/lib/python3.10/site-packages/pandas/core/internals/managers.py?line=693'>694</a>\u001b[0m             indexer,\n\u001b[1;32m    <a href='file:///~/Anaconda3/envs/Premature_Stop_Codons/lib/python3.10/site-packages/pandas/core/internals/managers.py?line=694'>695</a>\u001b[0m             axis\u001b[39m=\u001b[39m\u001b[39m1\u001b[39m,\n\u001b[1;32m    <a href='file:///~/Anaconda3/envs/Premature_Stop_Codons/lib/python3.10/site-packages/pandas/core/internals/managers.py?line=695'>696</a>\u001b[0m             fill_value\u001b[39m=\u001b[39m(\n\u001b[1;32m    <a href='file:///~/Anaconda3/envs/Premature_Stop_Codons/lib/python3.10/site-packages/pandas/core/internals/managers.py?line=696'>697</a>\u001b[0m                 fill_value \u001b[39mif\u001b[39;00m fill_value \u001b[39mis\u001b[39;00m \u001b[39mnot\u001b[39;00m \u001b[39mNone\u001b[39;00m \u001b[39melse\u001b[39;00m blk\u001b[39m.\u001b[39mfill_value\n\u001b[1;32m    <a href='file:///~/Anaconda3/envs/Premature_Stop_Codons/lib/python3.10/site-packages/pandas/core/internals/managers.py?line=697'>698</a>\u001b[0m             ),\n\u001b[1;32m    <a href='file:///~/Anaconda3/envs/Premature_Stop_Codons/lib/python3.10/site-packages/pandas/core/internals/managers.py?line=698'>699</a>\u001b[0m         )\n\u001b[1;32m    <a href='file:///~/Anaconda3/envs/Premature_Stop_Codons/lib/python3.10/site-packages/pandas/core/internals/managers.py?line=699'>700</a>\u001b[0m         \u001b[39mfor\u001b[39;00m blk \u001b[39min\u001b[39;00m \u001b[39mself\u001b[39m\u001b[39m.\u001b[39mblocks\n\u001b[1;32m    <a href='file:///~/Anaconda3/envs/Premature_Stop_Codons/lib/python3.10/site-packages/pandas/core/internals/managers.py?line=700'>701</a>\u001b[0m     ]\n\u001b[1;32m    <a href='file:///~/Anaconda3/envs/Premature_Stop_Codons/lib/python3.10/site-packages/pandas/core/internals/managers.py?line=702'>703</a>\u001b[0m new_axes \u001b[39m=\u001b[39m \u001b[39mlist\u001b[39m(\u001b[39mself\u001b[39m\u001b[39m.\u001b[39maxes)\n\u001b[1;32m    <a href='file:///~/Anaconda3/envs/Premature_Stop_Codons/lib/python3.10/site-packages/pandas/core/internals/managers.py?line=703'>704</a>\u001b[0m new_axes[axis] \u001b[39m=\u001b[39m new_axis\n",
      "File \u001b[0;32m~/Anaconda3/envs/Premature_Stop_Codons/lib/python3.10/site-packages/pandas/core/internals/managers.py:693\u001b[0m, in \u001b[0;36m<listcomp>\u001b[0;34m(.0)\u001b[0m\n\u001b[1;32m    <a href='file:///~/Anaconda3/envs/Premature_Stop_Codons/lib/python3.10/site-packages/pandas/core/internals/managers.py?line=684'>685</a>\u001b[0m     new_blocks \u001b[39m=\u001b[39m \u001b[39mself\u001b[39m\u001b[39m.\u001b[39m_slice_take_blocks_ax0(\n\u001b[1;32m    <a href='file:///~/Anaconda3/envs/Premature_Stop_Codons/lib/python3.10/site-packages/pandas/core/internals/managers.py?line=685'>686</a>\u001b[0m         indexer,\n\u001b[1;32m    <a href='file:///~/Anaconda3/envs/Premature_Stop_Codons/lib/python3.10/site-packages/pandas/core/internals/managers.py?line=686'>687</a>\u001b[0m         fill_value\u001b[39m=\u001b[39mfill_value,\n\u001b[1;32m    <a href='file:///~/Anaconda3/envs/Premature_Stop_Codons/lib/python3.10/site-packages/pandas/core/internals/managers.py?line=687'>688</a>\u001b[0m         only_slice\u001b[39m=\u001b[39monly_slice,\n\u001b[1;32m    <a href='file:///~/Anaconda3/envs/Premature_Stop_Codons/lib/python3.10/site-packages/pandas/core/internals/managers.py?line=688'>689</a>\u001b[0m         use_na_proxy\u001b[39m=\u001b[39muse_na_proxy,\n\u001b[1;32m    <a href='file:///~/Anaconda3/envs/Premature_Stop_Codons/lib/python3.10/site-packages/pandas/core/internals/managers.py?line=689'>690</a>\u001b[0m     )\n\u001b[1;32m    <a href='file:///~/Anaconda3/envs/Premature_Stop_Codons/lib/python3.10/site-packages/pandas/core/internals/managers.py?line=690'>691</a>\u001b[0m \u001b[39melse\u001b[39;00m:\n\u001b[1;32m    <a href='file:///~/Anaconda3/envs/Premature_Stop_Codons/lib/python3.10/site-packages/pandas/core/internals/managers.py?line=691'>692</a>\u001b[0m     new_blocks \u001b[39m=\u001b[39m [\n\u001b[0;32m--> <a href='file:///~/Anaconda3/envs/Premature_Stop_Codons/lib/python3.10/site-packages/pandas/core/internals/managers.py?line=692'>693</a>\u001b[0m         blk\u001b[39m.\u001b[39;49mtake_nd(\n\u001b[1;32m    <a href='file:///~/Anaconda3/envs/Premature_Stop_Codons/lib/python3.10/site-packages/pandas/core/internals/managers.py?line=693'>694</a>\u001b[0m             indexer,\n\u001b[1;32m    <a href='file:///~/Anaconda3/envs/Premature_Stop_Codons/lib/python3.10/site-packages/pandas/core/internals/managers.py?line=694'>695</a>\u001b[0m             axis\u001b[39m=\u001b[39;49m\u001b[39m1\u001b[39;49m,\n\u001b[1;32m    <a href='file:///~/Anaconda3/envs/Premature_Stop_Codons/lib/python3.10/site-packages/pandas/core/internals/managers.py?line=695'>696</a>\u001b[0m             fill_value\u001b[39m=\u001b[39;49m(\n\u001b[1;32m    <a href='file:///~/Anaconda3/envs/Premature_Stop_Codons/lib/python3.10/site-packages/pandas/core/internals/managers.py?line=696'>697</a>\u001b[0m                 fill_value \u001b[39mif\u001b[39;49;00m fill_value \u001b[39mis\u001b[39;49;00m \u001b[39mnot\u001b[39;49;00m \u001b[39mNone\u001b[39;49;00m \u001b[39melse\u001b[39;49;00m blk\u001b[39m.\u001b[39;49mfill_value\n\u001b[1;32m    <a href='file:///~/Anaconda3/envs/Premature_Stop_Codons/lib/python3.10/site-packages/pandas/core/internals/managers.py?line=697'>698</a>\u001b[0m             ),\n\u001b[1;32m    <a href='file:///~/Anaconda3/envs/Premature_Stop_Codons/lib/python3.10/site-packages/pandas/core/internals/managers.py?line=698'>699</a>\u001b[0m         )\n\u001b[1;32m    <a href='file:///~/Anaconda3/envs/Premature_Stop_Codons/lib/python3.10/site-packages/pandas/core/internals/managers.py?line=699'>700</a>\u001b[0m         \u001b[39mfor\u001b[39;00m blk \u001b[39min\u001b[39;00m \u001b[39mself\u001b[39m\u001b[39m.\u001b[39mblocks\n\u001b[1;32m    <a href='file:///~/Anaconda3/envs/Premature_Stop_Codons/lib/python3.10/site-packages/pandas/core/internals/managers.py?line=700'>701</a>\u001b[0m     ]\n\u001b[1;32m    <a href='file:///~/Anaconda3/envs/Premature_Stop_Codons/lib/python3.10/site-packages/pandas/core/internals/managers.py?line=702'>703</a>\u001b[0m new_axes \u001b[39m=\u001b[39m \u001b[39mlist\u001b[39m(\u001b[39mself\u001b[39m\u001b[39m.\u001b[39maxes)\n\u001b[1;32m    <a href='file:///~/Anaconda3/envs/Premature_Stop_Codons/lib/python3.10/site-packages/pandas/core/internals/managers.py?line=703'>704</a>\u001b[0m new_axes[axis] \u001b[39m=\u001b[39m new_axis\n",
      "File \u001b[0;32m~/Anaconda3/envs/Premature_Stop_Codons/lib/python3.10/site-packages/pandas/core/internals/blocks.py:1121\u001b[0m, in \u001b[0;36mBlock.take_nd\u001b[0;34m(self, indexer, axis, new_mgr_locs, fill_value)\u001b[0m\n\u001b[1;32m   <a href='file:///~/Anaconda3/envs/Premature_Stop_Codons/lib/python3.10/site-packages/pandas/core/internals/blocks.py?line=1117'>1118</a>\u001b[0m \u001b[39melse\u001b[39;00m:\n\u001b[1;32m   <a href='file:///~/Anaconda3/envs/Premature_Stop_Codons/lib/python3.10/site-packages/pandas/core/internals/blocks.py?line=1118'>1119</a>\u001b[0m     allow_fill \u001b[39m=\u001b[39m \u001b[39mTrue\u001b[39;00m\n\u001b[0;32m-> <a href='file:///~/Anaconda3/envs/Premature_Stop_Codons/lib/python3.10/site-packages/pandas/core/internals/blocks.py?line=1120'>1121</a>\u001b[0m new_values \u001b[39m=\u001b[39m algos\u001b[39m.\u001b[39;49mtake_nd(\n\u001b[1;32m   <a href='file:///~/Anaconda3/envs/Premature_Stop_Codons/lib/python3.10/site-packages/pandas/core/internals/blocks.py?line=1121'>1122</a>\u001b[0m     values, indexer, axis\u001b[39m=\u001b[39;49maxis, allow_fill\u001b[39m=\u001b[39;49mallow_fill, fill_value\u001b[39m=\u001b[39;49mfill_value\n\u001b[1;32m   <a href='file:///~/Anaconda3/envs/Premature_Stop_Codons/lib/python3.10/site-packages/pandas/core/internals/blocks.py?line=1122'>1123</a>\u001b[0m )\n\u001b[1;32m   <a href='file:///~/Anaconda3/envs/Premature_Stop_Codons/lib/python3.10/site-packages/pandas/core/internals/blocks.py?line=1124'>1125</a>\u001b[0m \u001b[39m# Called from three places in managers, all of which satisfy\u001b[39;00m\n\u001b[1;32m   <a href='file:///~/Anaconda3/envs/Premature_Stop_Codons/lib/python3.10/site-packages/pandas/core/internals/blocks.py?line=1125'>1126</a>\u001b[0m \u001b[39m#  this assertion\u001b[39;00m\n\u001b[1;32m   <a href='file:///~/Anaconda3/envs/Premature_Stop_Codons/lib/python3.10/site-packages/pandas/core/internals/blocks.py?line=1126'>1127</a>\u001b[0m \u001b[39massert\u001b[39;00m \u001b[39mnot\u001b[39;00m (axis \u001b[39m==\u001b[39m \u001b[39m0\u001b[39m \u001b[39mand\u001b[39;00m new_mgr_locs \u001b[39mis\u001b[39;00m \u001b[39mNone\u001b[39;00m)\n",
      "File \u001b[0;32m~/Anaconda3/envs/Premature_Stop_Codons/lib/python3.10/site-packages/pandas/core/array_algos/take.py:117\u001b[0m, in \u001b[0;36mtake_nd\u001b[0;34m(arr, indexer, axis, fill_value, allow_fill)\u001b[0m\n\u001b[1;32m    <a href='file:///~/Anaconda3/envs/Premature_Stop_Codons/lib/python3.10/site-packages/pandas/core/array_algos/take.py?line=113'>114</a>\u001b[0m     \u001b[39mreturn\u001b[39;00m arr\u001b[39m.\u001b[39mtake(indexer, fill_value\u001b[39m=\u001b[39mfill_value, allow_fill\u001b[39m=\u001b[39mallow_fill)\n\u001b[1;32m    <a href='file:///~/Anaconda3/envs/Premature_Stop_Codons/lib/python3.10/site-packages/pandas/core/array_algos/take.py?line=115'>116</a>\u001b[0m arr \u001b[39m=\u001b[39m np\u001b[39m.\u001b[39masarray(arr)\n\u001b[0;32m--> <a href='file:///~/Anaconda3/envs/Premature_Stop_Codons/lib/python3.10/site-packages/pandas/core/array_algos/take.py?line=116'>117</a>\u001b[0m \u001b[39mreturn\u001b[39;00m _take_nd_ndarray(arr, indexer, axis, fill_value, allow_fill)\n",
      "File \u001b[0;32m~/Anaconda3/envs/Premature_Stop_Codons/lib/python3.10/site-packages/pandas/core/array_algos/take.py:163\u001b[0m, in \u001b[0;36m_take_nd_ndarray\u001b[0;34m(arr, indexer, axis, fill_value, allow_fill)\u001b[0m\n\u001b[1;32m    <a href='file:///~/Anaconda3/envs/Premature_Stop_Codons/lib/python3.10/site-packages/pandas/core/array_algos/take.py?line=157'>158</a>\u001b[0m     out \u001b[39m=\u001b[39m np\u001b[39m.\u001b[39mempty(out_shape, dtype\u001b[39m=\u001b[39mdtype)\n\u001b[1;32m    <a href='file:///~/Anaconda3/envs/Premature_Stop_Codons/lib/python3.10/site-packages/pandas/core/array_algos/take.py?line=159'>160</a>\u001b[0m func \u001b[39m=\u001b[39m _get_take_nd_function(\n\u001b[1;32m    <a href='file:///~/Anaconda3/envs/Premature_Stop_Codons/lib/python3.10/site-packages/pandas/core/array_algos/take.py?line=160'>161</a>\u001b[0m     arr\u001b[39m.\u001b[39mndim, arr\u001b[39m.\u001b[39mdtype, out\u001b[39m.\u001b[39mdtype, axis\u001b[39m=\u001b[39maxis, mask_info\u001b[39m=\u001b[39mmask_info\n\u001b[1;32m    <a href='file:///~/Anaconda3/envs/Premature_Stop_Codons/lib/python3.10/site-packages/pandas/core/array_algos/take.py?line=161'>162</a>\u001b[0m )\n\u001b[0;32m--> <a href='file:///~/Anaconda3/envs/Premature_Stop_Codons/lib/python3.10/site-packages/pandas/core/array_algos/take.py?line=162'>163</a>\u001b[0m func(arr, indexer, out, fill_value)\n\u001b[1;32m    <a href='file:///~/Anaconda3/envs/Premature_Stop_Codons/lib/python3.10/site-packages/pandas/core/array_algos/take.py?line=164'>165</a>\u001b[0m \u001b[39mif\u001b[39;00m flip_order:\n\u001b[1;32m    <a href='file:///~/Anaconda3/envs/Premature_Stop_Codons/lib/python3.10/site-packages/pandas/core/array_algos/take.py?line=165'>166</a>\u001b[0m     out \u001b[39m=\u001b[39m out\u001b[39m.\u001b[39mT\n",
      "\u001b[0;31mKeyboardInterrupt\u001b[0m: "
     ]
    }
   ],
   "source": [
    "%run ../scripts/Geneexpression_Differences.py"
   ]
  },
  {
   "cell_type": "markdown",
   "metadata": {},
   "source": [
    "First we look at some common features of the premature stop codons in the 1001 Genomes project."
   ]
  },
  {
   "cell_type": "code",
   "execution_count": null,
   "metadata": {},
   "outputs": [],
   "source": [
    "import pandas as pd \n",
    "import numpy as np\n",
    "import matplotlib.pyplot as plt \n",
    "\n",
    "gt_section = pd.read_csv('data/preprocessed/GT_Section_Numeric_Overlap.csv', index_col=0)\n",
    "stop_table = pd.read_csv('data/processed/Genexpression_Differences/Stop_Table_Full.csv', index_col=0)\n",
    "\n",
    "genes = np.unique(stop_table.Gene)\n",
    "\n",
    "numbers_gene_count = []\n",
    "for gene in genes:\n",
    "    subset = stop_table[stop_table['Gene'] == gene]\n",
    "    numbers_gene_count.append(subset.shape[0])\n",
    "\n",
    "numbers_premature_stops = gt_section.sum(axis=1)\n",
    "accessions = np.arange(0, len(gt_section.index.values))\n",
    "fig = plt.figure(figsize=(8, 6))\n",
    "gs = fig.add_gridspec(2, 1)\n",
    "ax1 = fig.add_subplot(gs[0, 0])\n",
    "ax1.scatter(accessions, numbers_premature_stops, alpha=0.7)\n",
    "ax1.set_xlabel('Accessions of A. thaliana')\n",
    "ax1.set_ylabel('Number of Premature Stop Codons')\n",
    "ax1.set_title('Distribution of Premature Stop Codons in 1135 Accessions of A. thaliana')\n",
    "ax2 = fig.add_subplot(gs[1, 0])\n",
    "ax2.hist(numbers_gene_count, bins=60);\n",
    "ax2.set_xlim(0, 60);\n",
    "ax2.set_xlabel('Number of Premature Stop Codons in a gene')\n",
    "fig.tight_layout()\n",
    "output_file = \"results/figures/Distribution_Premature_Stop_Codons.png\"\n",
    "plt.savefig(output_file, dpi=700, facecolor='w')\n",
    "plt.show()"
   ]
  },
  {
   "cell_type": "markdown",
   "metadata": {},
   "source": [
    "## Control with Synonymous and Non-Synonymous Mutations"
   ]
  }
 ],
 "metadata": {
  "interpreter": {
   "hash": "ac1bc1fee816c861628f5010bc668025382ee6a8fa6cf0a3da56c2b4dd6f469c"
  },
  "kernelspec": {
   "display_name": "Python 3.10.2 ('Premature_Stop_Codons')",
   "language": "python",
   "name": "python3"
  },
  "language_info": {
   "codemirror_mode": {
    "name": "ipython",
    "version": 3
   },
   "file_extension": ".py",
   "mimetype": "text/x-python",
   "name": "python",
   "nbconvert_exporter": "python",
   "pygments_lexer": "ipython3",
   "version": "3.10.2"
  },
  "orig_nbformat": 4
 },
 "nbformat": 4,
 "nbformat_minor": 2
}
