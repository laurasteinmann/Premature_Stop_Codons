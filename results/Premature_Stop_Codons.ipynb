{
 "cells": [
  {
   "cell_type": "markdown",
   "metadata": {},
   "source": [
    "# Project Premature Stop Codons in *Arabidopsis thaliana*\n",
    "\n"
   ]
  },
  {
   "cell_type": "markdown",
   "metadata": {},
   "source": [
    "To manage live in an ecosystem organisms need to adapt to the specific abiotic and biotic factors arount them. Especially for plants adaptation is important because they can not change their habitat during their lifespan. Adaptation can happen through multiple changes on cell, tissue and organism level, but the fundamental process that drive adaptation on the smallest scale are mutations. There are three categories of mutations, which have different effects on the process of transkription of DNA to RNA and the translation from the RNA to the protein. The first category of mutations are synonymous mutations. "
   ]
  }
 ],
 "metadata": {
  "interpreter": {
   "hash": "ac1bc1fee816c861628f5010bc668025382ee6a8fa6cf0a3da56c2b4dd6f469c"
  },
  "kernelspec": {
   "display_name": "Python 3.10.2 ('Premature_Stop_Codons')",
   "language": "python",
   "name": "python3"
  },
  "language_info": {
   "name": "python",
   "version": "3.10.2"
  },
  "orig_nbformat": 4
 },
 "nbformat": 4,
 "nbformat_minor": 2
}
